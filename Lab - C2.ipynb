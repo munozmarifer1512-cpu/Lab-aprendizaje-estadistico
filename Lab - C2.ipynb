{
 "cells": [
  {
   "cell_type": "markdown",
   "id": "c191c972-2c85-4284-a555-7db618ba5b26",
   "metadata": {},
   "source": [
    "# Laboratorio de regresión logística"
   ]
  },
  {
   "cell_type": "markdown",
   "id": "e11c177c-1848-44b0-8c6b-b35537b5ae2f",
   "metadata": {},
   "source": [
    "|                |   |\n",
    ":----------------|---|\n",
    "| **Nombre**     | María Fernanda Muñoz Sevilla  |\n",
    "| **Fecha**      | 13/10/2025  |\n",
    "| **Expediente** | 751190  | "
   ]
  },
  {
   "cell_type": "markdown",
   "id": "4b95344a-b10c-465d-a5f4-bfa65905420c",
   "metadata": {},
   "source": [
    "In machine learning, Support Vector Machines (SVM) are supervised learning models with associated learning algorithms that analyze data used for classification and regression analysis. It is mostly used in classification problems. In this algorithm, each data item is plotted as a point in p-dimensional space (where p is the number of features), with the value of each feature being the value of a particular coordinate. Then, classification is performed by finding the hyper-plane that best differentiates the two classes (or more if we have a multi class problem):\n",
    "\n",
    "$$ f(x) = w^T \\varphi(x) + b $$\n",
    "\n",
    "where $\\varphi: X \\rightarrow F $ is a function that makes each input point $x$ correspond to a point in F, where F is a Hilbert space.\n",
    "\n",
    "In addition to performing linear classification, SVMs can efficiently perform a non-linear classification, implicitly mapping their inputs into high-dimensional feature spaces (more specifically using the kernel trick, like the RBF funcion). \n",
    "\n",
    "[1]\n",
    "\n",
    "OLS utilizes the squared residuals to fit the parameters. Large residuals caused by outliers may worsen the accuracy significantly.\n",
    "\n",
    "Support Vectors use piecewise linear functions to counter this, in which a hyperparameter  $\\epsilon$ called the margin lets errors that are less or equal to it be 0, and error larger than it be $e - \\epsilon$. \n",
    "\n",
    "The problem to solve is:\n",
    "\n",
    "\\begin{split}\n",
    "        \\min_{w, b, \\xi, \\xi^*} \\mathcal{P}_\\epsilon(w, b, \\xi) &= \\frac{1}{2} w^T w + c \\sum_{k=1}^{N} \\xi_k \\\\\n",
    "        \\text{s.t. } & y_k [w^T \\varphi(x_k) - b] \\geq 1- \\xi_k,\\ \\ k = 1, ..., N \\\\\n",
    "        & \\xi_k \\geq 0,\\ \\ k = 1, ..., N\n",
    "\\end{split}\n",
    "\n",
    "\n",
    "The most important question that arises when using a SVM is how to choose the correct hyperplane. Consider the following scenarios:"
   ]
  },
  {
   "cell_type": "markdown",
   "id": "ffd4c629-c547-433d-90ff-852a1e722a95",
   "metadata": {},
   "source": [
    "### Scenario 1\n",
    "\n",
    "In this scenario there are three hyperplanes called A, B, and C. Now, the problem is to identify the hyperplane which best differentiates the stars and the circles.\n",
    "\n",
    "<center><img src=\"https://media.geeksforgeeks.org/wp-content/uploads/SVM_21-2.png\" alt=\"what image shows\"></center>\n",
    "\n",
    "In this case, hyperplane B separates the stars and the circle betters, hence it is the correct hyperplane.\n"
   ]
  },
  {
   "cell_type": "markdown",
   "id": "3d158b5b-99f1-435a-9b91-0d8a17363bce",
   "metadata": {},
   "source": [
    "### Scenario 2\n",
    "\n",
    "Now take another scenario where all three hyperplanes are segregating classes well. The question that arises is how to choose the best hyperplane in this situation.\n",
    "\n",
    "<center><img src=\"https://media.geeksforgeeks.org/wp-content/uploads/SVM_4-2.png\" alt=\"what image shows\"></center>\n",
    "\n",
    "In such scenarios, we calculate the margin (which is the distance between nearest data point and the hyperplane). The hyperplane with the largest margin will be considered as the correct hyperplane to classify the dataset.\n",
    "\n",
    "Here C has the largest margin. Hence, it is considered as the best hyperplane.\n"
   ]
  },
  {
   "cell_type": "markdown",
   "id": "d4ae4b6d-e3fe-4496-8f7a-242697fb058e",
   "metadata": {},
   "source": [
    "### Kernels\n",
    "Knowing \n",
    "$$ w = \\sum_{k=1}^{N} \\alpha_k y_k \\varphi(x_k) $$\n",
    "\n",
    "And\n",
    "$$ y_{pred} = w^T \\varphi(x) + b $$\n",
    "\n",
    "Then \n",
    "$$ y_{pred} = (\\sum_{k=1}^{N} \\alpha_k y_k \\varphi(x_k))^T \\varphi(x) + b $$\n",
    "\n",
    "Where $\\varphi$ is a function that makes each input in $x$ correspond to a point in $F$ (a Hilbert space). This can be seen as processing and transforming the input featuers to keep the model's convexity. [2]\n",
    "\n",
    "This also allows us to transform the inputs into another space where they might be more easily classified.\n",
    "\n",
    "<center><img src=https://miro.medium.com/max/838/1*gXvhD4IomaC9Jb37tzDUVg.png alt=\"what image shows\"></center>"
   ]
  },
  {
   "cell_type": "markdown",
   "id": "d8cdd455-cb0d-477c-84a8-326453792426",
   "metadata": {},
   "source": [
    "## ROC and AUC\n",
    "\n",
    "A ROC (Receiver Operating Characteristic) is a graph that shows how the classification model performs at the classification thresholds. \n",
    "\n",
    "ROC curves typically feature true positive rate on the Y axis, and false positive rate on the X axis. This means that the top left corner of the plot is the “ideal” point - a false positive rate of zero, and a true positive rate of one. This is not very realistic, but it does mean that a larger area under the curve (AUC) is usually better. [3]\n",
    "\n",
    "True Positive Rate is a synonym for Recall and defined as:\n",
    "$$ TPR = \\frac{TP}{TP + FN} $$\n",
    "\n",
    "False Positive Rate is a synonym for Specificity and defined as:\n",
    "\n",
    "$$ FPR = \\frac{FP}{FP + TN} $$\n",
    "\n",
    "ROC curves are typically used in binary classification to study the output of a classifier. In order to extend ROC curve and ROC area to multi-label classification, it is necessary to binarize the output. One ROC curve can be drawn per label, but one can also draw a ROC curve by considering each element of the label indicator matrix as a binary prediction (micro-averaging).\n",
    "\n",
    "E.g. If you lower a classification threshold, more items would be classified as positive, increasing False Positives and True Positives.\n",
    "\n",
    "AUC stands for Area under the ROC."
   ]
  },
  {
   "cell_type": "markdown",
   "id": "3ce8fe3e-dca0-4f66-94c6-18f3545cb865",
   "metadata": {},
   "source": [
    "## Ejercicio 1"
   ]
  },
  {
   "cell_type": "markdown",
   "id": "ca93403a-dc07-4059-8e97-991e98d8caf4",
   "metadata": {},
   "source": [
    "- Utiliza el dataset `Iris`, modela con SVC y haz Cross-Validation de diferentes kernels ('linear', 'poly', 'rbf', 'sigmoid').\n",
    "- Modela con LogisticRegression.\n",
    "- El método de Cross-Validation es K-Folds con $k=10$.\n",
    "- Utiliza el AUC como métrico de Cross-Validation.\n",
    "- Compara resultados."
   ]
  },
  {
   "cell_type": "code",
   "execution_count": 1,
   "id": "dedae7bb-ce63-4f38-aeb1-353c7f579909",
   "metadata": {},
   "outputs": [],
   "source": [
    "import numpy as np\n",
    "import pandas as pd\n",
    "from sklearn.datasets import load_iris\n",
    "from sklearn.preprocessing import StandardScaler\n",
    "from sklearn.svm import SVC\n",
    "from sklearn.linear_model import LogisticRegression\n",
    "from sklearn.metrics import roc_auc_score\n"
   ]
  },
  {
   "cell_type": "code",
   "execution_count": 2,
   "id": "7cf935dc-8d6b-4503-8ba3-90d9d55fef20",
   "metadata": {},
   "outputs": [
    {
     "name": "stdout",
     "output_type": "stream",
     "text": [
      "{'Linear': 1.0, 'Poly': 1.0, 'rbf': 0.9958754208754209, 'Sigmoid': 0.9831389289722623, 'Logistic Regression': 0.9966550424883758}\n"
     ]
    }
   ],
   "source": [
    "#cargamos el dataset\n",
    "iris = load_iris()\n",
    "X = iris[\"data\"]\n",
    "y = iris[\"target\"]\n",
    "\n",
    "#Convierto a dataframe y lo mezclamos\n",
    "df= pd.DataFrame(X, columns=iris.feature_names)\n",
    "df[\"target\"]=y\n",
    "df_shuffled = df.sample(frac=1, random_state=42).reset_index(drop=True)\n",
    "\n",
    "X = df_shuffled[iris.feature_names].values\n",
    "y = df_shuffled['target'].values\n",
    "\n",
    "#Cross validation\n",
    "n_split = 10\n",
    "n = len(y)\n",
    "fold = n // n_split\n",
    "\n",
    "#Creamos un diccionario para almacenar los modelos  kernels ('linear', 'poly', 'rbf', 'sigmoid') que aplicaremos \n",
    "modelos = {\n",
    "    \"Linear\": SVC(kernel=\"linear\", probability=True),\n",
    "    \"Poly\": SVC(kernel=\"poly\", probability=True),\n",
    "    \"rbf\": SVC(kernel=\"rbf\", probability=True),\n",
    "    \"Sigmoid\": SVC(kernel=\"sigmoid\", probability=True),\n",
    "    \"Logistic Regression\": LogisticRegression()\n",
    "}\n",
    "\n",
    "#Creamos nuestra variable de almacenamiento de los resultados\n",
    "resultados = {}\n",
    "\n",
    "#Realizamos un for para que se haga el procedimiento de kfold en todos los modelos\n",
    "for nombre, modelo in modelos.items():\n",
    "    aucs = []\n",
    "\n",
    "    for i in range(n_split):\n",
    "        X_train = np.concatenate([X[:i*fold], X[(i+1)*fold:]])\n",
    "        y_train = np.concatenate([y[:i*fold], y[(i+1)*fold:]])\n",
    "        X_test = X[i*fold:(i+1)*fold]\n",
    "        y_test = y[i*fold:(i+1)*fold]\n",
    "\n",
    "        # Estandarizar\n",
    "        scaler = StandardScaler()\n",
    "        X_train = scaler.fit_transform(X_train)\n",
    "        X_test = scaler.transform(X_test)\n",
    "\n",
    "        # Entrenar modelo\n",
    "        modelo.fit(X_train, y_train)\n",
    "        #prediccion \n",
    "        y_score = modelo.predict_proba(X_test)\n",
    "\n",
    "        # AUC multiclase (One-vs-Rest)\n",
    "        auc = roc_auc_score(y_test, y_score, multi_class='ovr')\n",
    "        aucs.append(auc)\n",
    "\n",
    "    resultados[nombre] = np.mean(aucs)\n",
    "\n",
    "#Mostramos los resultados\n",
    "print(resultados)\n"
   ]
  },
  {
   "cell_type": "markdown",
   "id": "c7e26d1b-1bd2-4839-a743-a63f6b258a42",
   "metadata": {},
   "source": [
    "## Ejercicio 2\n",
    "- Repite el ejercicio 1 con el dataset `Default`. Utiliza `default` como target."
   ]
  },
  {
   "cell_type": "code",
   "execution_count": 6,
   "id": "6c5abdc2-2730-4557-a1d8-56498d98a61a",
   "metadata": {},
   "outputs": [
    {
     "data": {
      "text/html": [
       "<div>\n",
       "<style scoped>\n",
       "    .dataframe tbody tr th:only-of-type {\n",
       "        vertical-align: middle;\n",
       "    }\n",
       "\n",
       "    .dataframe tbody tr th {\n",
       "        vertical-align: top;\n",
       "    }\n",
       "\n",
       "    .dataframe thead th {\n",
       "        text-align: right;\n",
       "    }\n",
       "</style>\n",
       "<table border=\"1\" class=\"dataframe\">\n",
       "  <thead>\n",
       "    <tr style=\"text-align: right;\">\n",
       "      <th></th>\n",
       "      <th>default</th>\n",
       "      <th>student</th>\n",
       "      <th>balance</th>\n",
       "      <th>income</th>\n",
       "    </tr>\n",
       "  </thead>\n",
       "  <tbody>\n",
       "    <tr>\n",
       "      <th>0</th>\n",
       "      <td>No</td>\n",
       "      <td>No</td>\n",
       "      <td>729.526495</td>\n",
       "      <td>44361.625074</td>\n",
       "    </tr>\n",
       "    <tr>\n",
       "      <th>1</th>\n",
       "      <td>No</td>\n",
       "      <td>Yes</td>\n",
       "      <td>817.180407</td>\n",
       "      <td>12106.134700</td>\n",
       "    </tr>\n",
       "    <tr>\n",
       "      <th>2</th>\n",
       "      <td>No</td>\n",
       "      <td>No</td>\n",
       "      <td>1073.549164</td>\n",
       "      <td>31767.138950</td>\n",
       "    </tr>\n",
       "    <tr>\n",
       "      <th>3</th>\n",
       "      <td>No</td>\n",
       "      <td>No</td>\n",
       "      <td>529.250605</td>\n",
       "      <td>35704.493940</td>\n",
       "    </tr>\n",
       "    <tr>\n",
       "      <th>4</th>\n",
       "      <td>No</td>\n",
       "      <td>No</td>\n",
       "      <td>785.655883</td>\n",
       "      <td>38463.495880</td>\n",
       "    </tr>\n",
       "  </tbody>\n",
       "</table>\n",
       "</div>"
      ],
      "text/plain": [
       "  default student      balance        income\n",
       "0      No      No   729.526495  44361.625074\n",
       "1      No     Yes   817.180407  12106.134700\n",
       "2      No      No  1073.549164  31767.138950\n",
       "3      No      No   529.250605  35704.493940\n",
       "4      No      No   785.655883  38463.495880"
      ]
     },
     "execution_count": 6,
     "metadata": {},
     "output_type": "execute_result"
    }
   ],
   "source": [
    "df=pd.read_csv(\"C:/Users/munoz/Downloads/lab_apre_est/Default.csv\")\n",
    "df.head()"
   ]
  },
  {
   "cell_type": "code",
   "execution_count": 14,
   "id": "a317a672-03ea-45ad-83e0-d590f917a6e6",
   "metadata": {},
   "outputs": [],
   "source": [
    "# === 2. Transformar variables categóricas a numéricas ===\n",
    "df[\"default_bin\"] = (df[\"default\"] == \"Yes\").astype(int)\n",
    "df[\"student_bin\"] = (df[\"student\"] == \"Yes\").astype(int)\n",
    "\n",
    "# === 3. Definir X e y correctamente ===\n",
    "X = df[[\"balance\", \"income\", \"student_bin\"]].values   # 2D\n",
    "y = df[\"default_bin\"].values  "
   ]
  },
  {
   "cell_type": "code",
   "execution_count": 32,
   "id": "ea0bb2af-09ae-4056-aa6f-f15289ae1f0d",
   "metadata": {},
   "outputs": [
    {
     "name": "stdout",
     "output_type": "stream",
     "text": [
      "{'Linear': nan, 'Poly': nan, 'rbf': nan, 'Sigmoid': nan, 'Logistic Regression': nan}\n"
     ]
    },
    {
     "name": "stderr",
     "output_type": "stream",
     "text": [
      "C:\\Users\\munoz\\anaconda3\\Lib\\site-packages\\numpy\\core\\fromnumeric.py:3504: RuntimeWarning: Mean of empty slice.\n",
      "  return _methods._mean(a, axis=axis, dtype=dtype,\n",
      "C:\\Users\\munoz\\anaconda3\\Lib\\site-packages\\numpy\\core\\_methods.py:129: RuntimeWarning: invalid value encountered in scalar divide\n",
      "  ret = ret.dtype.type(ret / rcount)\n"
     ]
    }
   ],
   "source": [
    "\n",
    "\n",
    "df_shuffled = df.sample(frac=1, random_state=137).reset_index(drop=True)\n",
    "X = df_shuffled[[\"balance\", \"income\", \"student_bin\"]].values\n",
    "y = df_shuffled[\"default_bin\"].values\n",
    "\n",
    "\n",
    "#Cross validation\n",
    "n_split = 10\n",
    "n = len(y)\n",
    "fold = n // n_split\n",
    "\n",
    "#Creamos un diccionario para almacenar los modelos  kernels ('linear', 'poly', 'rbf', 'sigmoid') que aplicaremos \n",
    "modelos = {\n",
    "    \"Linear\": SVC(kernel=\"linear\", probability=True),\n",
    "    \"Poly\": SVC(kernel=\"poly\", probability=True),\n",
    "    \"rbf\": SVC(kernel=\"rbf\", probability=True),\n",
    "    \"Sigmoid\": SVC(kernel=\"sigmoid\", probability=True),\n",
    "    \"Logistic Regression\": LogisticRegression()\n",
    "}\n",
    "\n",
    "#Creamos nuestra variable de almacenamiento de los resultados\n",
    "resultados = {}\n",
    "\n",
    "#Realizamos un for para que se haga el procedimiento de kfold en todos los modelos\n",
    "for nombre, modelo in modelos.items():\n",
    "    aucs = []\n",
    "\n",
    "    for i in range(n_split):\n",
    "        X_train2 = np.concatenate([X[:i*fold], X[(i+1)*fold:]])\n",
    "        y_train2 = np.concatenate([y[:i*fold], y[(i+1)*fold:]])\n",
    "        X_test2 = X[i*fold:(i+1)*fold]\n",
    "        y_test2 = y[i*fold:(i+1)*fold]\n",
    "\n",
    "         # Saltamos fold si no hay dos clases\n",
    "        if len(np.unique(y_train2)) < 2 or len(np.unique(y_test2)) < 2:\n",
    "            continue\n",
    "\n",
    "        # Estandarizar\n",
    "        scaler = StandardScaler()\n",
    "        X_train2 = scaler.fit_transform(X_train2)\n",
    "        X_test2 = scaler.transform(X_test2)\n",
    "\n",
    "        # Entrenar modelo\n",
    "        modelo.fit(X_train2, y_train2)\n",
    "        #prediccion \n",
    "        y_score2 = modelo.predict_proba(X_test2)\n",
    "\n",
    "        # AUC multiclase (One-vs-Rest)\n",
    "        auc = roc_auc_score(y_test2, y_score2, multi_class='ovr')\n",
    "        aucs.append(auc)\n",
    "\n",
    "    resultados[nombre] = np.mean(aucs)\n",
    "\n",
    "#Mostramos los resultados\n",
    "print(resultados)\n"
   ]
  },
  {
   "cell_type": "code",
   "execution_count": null,
   "id": "60920a49-6778-4be7-9508-19046cc70421",
   "metadata": {},
   "outputs": [],
   "source": []
  },
  {
   "attachments": {},
   "cell_type": "markdown",
   "id": "138473b9-3a81-43cb-83a5-a362e535b736",
   "metadata": {},
   "source": [
    "# Addendum\n",
    "\n",
    "Métricos disponibles para clasificación:\n",
    "- ‘accuracy’\n",
    "- ‘balanced_accuracy’\n",
    "- ‘top_k_accuracy’\n",
    "- ‘average_precision’\n",
    "- ‘neg_brier_score’\n",
    "- ‘f1’\n",
    "- ‘f1_micro’\n",
    "- ‘f1_macro’\n",
    "- ‘f1_weighted’\n",
    "- ‘f1_samples’\n",
    "- ‘neg_log_loss’\n",
    "- ‘precision’ etc.\n",
    "- ‘recall’ etc.\n",
    "- ‘jaccard’ etc.\n",
    "- ‘roc_auc’\n",
    "- ‘roc_auc_ovr’\n",
    "- ‘roc_auc_ovo’\n",
    "- ‘roc_auc_ovr_weighted’\n",
    "- ‘roc_auc_ovo_weighted’\n",
    "- ‘d2_log_loss_score’"
   ]
  },
  {
   "cell_type": "markdown",
   "id": "e68a114d-84df-46fc-b1fb-4729410bdb5f",
   "metadata": {},
   "source": [
    "# References\n",
    "\n",
    "[1] Shigeo Abe.Support Vector Machines for Pattern Classification,2Ed.Springer-Verlag London,2010. ISBN978-1-84996-097-7. URLhttps://www.springer.com/gp/book/9781849960977.\n",
    "\n",
    "[2] Johan A K Suykens, Tony Van Gestel, Jos De Brabanter, BartDe Moor, and Joos Vandewalle.Least Squares Support VectorMachines. World Scientific,2002. ISBN9789812381514. URLhttps://www.worldscientific.com/worldscibooks/10.1142/5089.\n",
    "\n",
    "[3] Bradley, A. P. (1997). The use of the area under the ROC curve in the evaluation of machine learning algorithms. Pattern recognition, 30(7), 1145-1159. URL https://www.researchgate.net/post/how_can_I_interpret_the_ROC_curve_result"
   ]
  }
 ],
 "metadata": {
  "kernelspec": {
   "display_name": "Python [conda env:base] *",
   "language": "python",
   "name": "conda-base-py"
  },
  "language_info": {
   "codemirror_mode": {
    "name": "ipython",
    "version": 3
   },
   "file_extension": ".py",
   "mimetype": "text/x-python",
   "name": "python",
   "nbconvert_exporter": "python",
   "pygments_lexer": "ipython3",
   "version": "3.12.7"
  }
 },
 "nbformat": 4,
 "nbformat_minor": 5
}
