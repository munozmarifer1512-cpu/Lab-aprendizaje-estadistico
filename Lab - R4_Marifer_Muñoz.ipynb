{
 "cells": [
  {
   "cell_type": "markdown",
   "id": "2e2753e4-9dc7-41d7-b080-d1abfbb16b28",
   "metadata": {},
   "source": [
    "# Laboratorio de regresión - 4"
   ]
  },
  {
   "cell_type": "markdown",
   "id": "c396ea70-b88c-4346-a14f-4aa7ca2e1b00",
   "metadata": {},
   "source": [
    "|                |   |\r\n",
    ":----------------|---|\r\n",
    "| **Nombre**     María Fernanda Muñoz Sevilla|   |\r\n",
    "| **Fecha**     10/09/25 |   |\r\n",
    "| **Expediente*751190*   |   |"
   ]
  },
  {
   "cell_type": "markdown",
   "id": "77def53e-10bf-474e-acdf-728e07bef102",
   "metadata": {},
   "source": [
    "## Modelos penalizados"
   ]
  },
  {
   "cell_type": "markdown",
   "id": "d9bb791d-1843-4b4d-bd8b-69e6419511e8",
   "metadata": {},
   "source": [
    "Hasta ahora la función de costo que usamos para decidir qué tan bueno es nuestro modelo al momento de ajustar es:\n",
    "\n",
    "$$ \\text{RSS} = \\sum_{i=1}^n e_i^2 = \\sum_{i=1}^n (y_i - \\hat{y_i})^2 $$"
   ]
  },
  {
   "cell_type": "markdown",
   "id": "4e6b5e6b-abe9-4b75-b045-e4444de4fc35",
   "metadata": {},
   "source": [
    "Dado que los errores obtenidos son una combinación de sesgo y varianza, puede ser que se sesgue un parámetro para minimizar el error. Esto significa que el modelo puede decidir que la salida no sea una combinación de los factores, sino una fuerte predilección sobre uno de los factores solamente. "
   ]
  },
  {
   "cell_type": "markdown",
   "id": "84901f9e-5551-455a-a70c-c7e39d9e55ae",
   "metadata": {},
   "source": [
    "E.g. se quiere ajustar un modelo\n",
    "\n",
    "$$ \\hat{z} = \\hat{\\beta_0} + \\hat{\\beta_1} x + \\hat{\\beta_2} y $$"
   ]
  },
  {
   "cell_type": "markdown",
   "id": "d6f473fc-6364-4b15-9bd4-f21a94cae151",
   "metadata": {},
   "source": [
    "Se ajusta el modelo y se decide que la mejor decisión es $\\hat{\\beta_1} = 10000$ y $\\hat{\\beta_2}=50$. Considera limitaciones de problemas reales:\n",
    "- Quizás los parámetros son ajustes de maquinaria que se deben realizar para conseguir el mejor producto posible, y que $10000$ sea imposible de asignar.\n",
    "- Quizás los datos actuales están sesgados y sólo hacen parecer que uno de los factores importa más que el otro."
   ]
  },
  {
   "cell_type": "markdown",
   "id": "ff32fbaa-7965-42c1-9b73-3640414b77f2",
   "metadata": {},
   "source": [
    "Una de las formas en las que se puede mitigar este problema es penalizando a los parámetros del modelo, cambiando la función de costo:"
   ]
  },
  {
   "cell_type": "markdown",
   "id": "3fc78736-9d8e-4e8b-94f3-6647bdaeb0d1",
   "metadata": {},
   "source": [
    "$$ \\text{RSS}_{L2} = \\sum_{i=1}^n e_i^2  + \\lambda \\sum_{j=1}^p \\hat{\\beta_j}^2 $$"
   ]
  },
  {
   "cell_type": "markdown",
   "id": "2d942bf5-fb39-44a0-b612-4ec05ab99b71",
   "metadata": {},
   "source": [
    "El *L2* significa que se está agregando una penalización de segundo orden. Lo que hace esta penalización es que los factores ahora sólo tendrán permitido crecer si hay una reducción al menos proporcional en el error (sacrificamos sesgo, pero reducimos la varianza)."
   ]
  },
  {
   "cell_type": "markdown",
   "id": "45c0cafb-c152-48e4-a345-bb5348eb16c7",
   "metadata": {},
   "source": [
    "Asimismo, existe la penalización *L1*"
   ]
  },
  {
   "cell_type": "markdown",
   "id": "9d9f2d93-d151-47ed-834f-4a7e91e94286",
   "metadata": {},
   "source": [
    "$$ \\text{RSS}_{L1} = \\sum_{i=1}^n e_i^2  + \\lambda \\sum_{j=1}^p |\\hat{\\beta_j}| $$"
   ]
  },
  {
   "cell_type": "markdown",
   "id": "ea95f232-25ab-4b4c-99b3-075a18878d95",
   "metadata": {},
   "source": [
    "A las penalizaciones *L2* y *L1* se les conoce también como Ridge y Lasso, respectivamente."
   ]
  },
  {
   "cell_type": "markdown",
   "id": "e41dfafb-fd1f-475a-a718-dec1e3773326",
   "metadata": {},
   "source": [
    "Para realizar una regresión con penalización de Ridge o de Lasso usamos el objeto `Ridge(alpha=?)` o `Lasso(alpha=?)` en lugar de `LinearRegression()` de `sklearn`."
   ]
  },
  {
   "cell_type": "markdown",
   "id": "ce36cb41-005e-4cb0-b8ab-92e6ae6c4c19",
   "metadata": {},
   "source": [
    "Utiliza el dataset de publicidad (Advertising.csv) y realiza 3 regresiones múltiples:\n",
    "\n",
    "$$ \\text{sales} = \\beta_0 + \\beta_1 (\\text{TV}) + \\beta_2 (\\text{radio}) + \\beta_3 (\\text{newspaper}) + \\epsilon $$"
   ]
  },
  {
   "cell_type": "markdown",
   "id": "d92e4008-ada1-4e82-9756-23fd357821d2",
   "metadata": {},
   "source": [
    "1. Sin penalización\n",
    "2. Con penalización L2\n",
    "3. Con penalización L1\n",
    "\n",
    "Compara los resultados de los parámetros y sus *p-values*, y los $R^2$ resultantes."
   ]
  },
  {
   "cell_type": "code",
   "execution_count": 66,
   "id": "489b6c52-9025-4ca7-8e96-ca70c294cf7c",
   "metadata": {},
   "outputs": [],
   "source": [
    "import pandas as pd\n",
    "import numpy as np\n",
    "from sklearn.linear_model import LinearRegression, Ridge, Lasso\n",
    "import statsmodels.api as sm\n",
    "import matplotlib.pyplot as plt\n",
    "from sklearn.metrics import r2_score"
   ]
  },
  {
   "cell_type": "code",
   "execution_count": 68,
   "id": "6f859166-06cf-478e-89d7-e6e5c2cb5ff0",
   "metadata": {},
   "outputs": [
    {
     "data": {
      "text/html": [
       "<div>\n",
       "<style scoped>\n",
       "    .dataframe tbody tr th:only-of-type {\n",
       "        vertical-align: middle;\n",
       "    }\n",
       "\n",
       "    .dataframe tbody tr th {\n",
       "        vertical-align: top;\n",
       "    }\n",
       "\n",
       "    .dataframe thead th {\n",
       "        text-align: right;\n",
       "    }\n",
       "</style>\n",
       "<table border=\"1\" class=\"dataframe\">\n",
       "  <thead>\n",
       "    <tr style=\"text-align: right;\">\n",
       "      <th></th>\n",
       "      <th>Unnamed: 0</th>\n",
       "      <th>TV</th>\n",
       "      <th>radio</th>\n",
       "      <th>newspaper</th>\n",
       "      <th>sales</th>\n",
       "    </tr>\n",
       "  </thead>\n",
       "  <tbody>\n",
       "    <tr>\n",
       "      <th>0</th>\n",
       "      <td>1</td>\n",
       "      <td>230.1</td>\n",
       "      <td>37.8</td>\n",
       "      <td>69.2</td>\n",
       "      <td>22.1</td>\n",
       "    </tr>\n",
       "    <tr>\n",
       "      <th>1</th>\n",
       "      <td>2</td>\n",
       "      <td>44.5</td>\n",
       "      <td>39.3</td>\n",
       "      <td>45.1</td>\n",
       "      <td>10.4</td>\n",
       "    </tr>\n",
       "    <tr>\n",
       "      <th>2</th>\n",
       "      <td>3</td>\n",
       "      <td>17.2</td>\n",
       "      <td>45.9</td>\n",
       "      <td>69.3</td>\n",
       "      <td>9.3</td>\n",
       "    </tr>\n",
       "    <tr>\n",
       "      <th>3</th>\n",
       "      <td>4</td>\n",
       "      <td>151.5</td>\n",
       "      <td>41.3</td>\n",
       "      <td>58.5</td>\n",
       "      <td>18.5</td>\n",
       "    </tr>\n",
       "    <tr>\n",
       "      <th>4</th>\n",
       "      <td>5</td>\n",
       "      <td>180.8</td>\n",
       "      <td>10.8</td>\n",
       "      <td>58.4</td>\n",
       "      <td>12.9</td>\n",
       "    </tr>\n",
       "  </tbody>\n",
       "</table>\n",
       "</div>"
      ],
      "text/plain": [
       "   Unnamed: 0     TV  radio  newspaper  sales\n",
       "0           1  230.1   37.8       69.2   22.1\n",
       "1           2   44.5   39.3       45.1   10.4\n",
       "2           3   17.2   45.9       69.3    9.3\n",
       "3           4  151.5   41.3       58.5   18.5\n",
       "4           5  180.8   10.8       58.4   12.9"
      ]
     },
     "execution_count": 68,
     "metadata": {},
     "output_type": "execute_result"
    }
   ],
   "source": [
    "df= pd.read_csv(\"C:/Users/munoz/Downloads/lab_apre_est/Advertising.csv\")\n",
    "df.head()"
   ]
  },
  {
   "cell_type": "code",
   "execution_count": 70,
   "id": "19564e85-79c8-48de-964c-d2170ab1fa17",
   "metadata": {},
   "outputs": [
    {
     "data": {
      "text/html": [
       "<div>\n",
       "<style scoped>\n",
       "    .dataframe tbody tr th:only-of-type {\n",
       "        vertical-align: middle;\n",
       "    }\n",
       "\n",
       "    .dataframe tbody tr th {\n",
       "        vertical-align: top;\n",
       "    }\n",
       "\n",
       "    .dataframe thead th {\n",
       "        text-align: right;\n",
       "    }\n",
       "</style>\n",
       "<table border=\"1\" class=\"dataframe\">\n",
       "  <thead>\n",
       "    <tr style=\"text-align: right;\">\n",
       "      <th></th>\n",
       "      <th>TV</th>\n",
       "      <th>radio</th>\n",
       "      <th>newspaper</th>\n",
       "      <th>sales</th>\n",
       "    </tr>\n",
       "  </thead>\n",
       "  <tbody>\n",
       "    <tr>\n",
       "      <th>0</th>\n",
       "      <td>230.1</td>\n",
       "      <td>37.8</td>\n",
       "      <td>69.2</td>\n",
       "      <td>22.1</td>\n",
       "    </tr>\n",
       "    <tr>\n",
       "      <th>1</th>\n",
       "      <td>44.5</td>\n",
       "      <td>39.3</td>\n",
       "      <td>45.1</td>\n",
       "      <td>10.4</td>\n",
       "    </tr>\n",
       "    <tr>\n",
       "      <th>2</th>\n",
       "      <td>17.2</td>\n",
       "      <td>45.9</td>\n",
       "      <td>69.3</td>\n",
       "      <td>9.3</td>\n",
       "    </tr>\n",
       "    <tr>\n",
       "      <th>3</th>\n",
       "      <td>151.5</td>\n",
       "      <td>41.3</td>\n",
       "      <td>58.5</td>\n",
       "      <td>18.5</td>\n",
       "    </tr>\n",
       "    <tr>\n",
       "      <th>4</th>\n",
       "      <td>180.8</td>\n",
       "      <td>10.8</td>\n",
       "      <td>58.4</td>\n",
       "      <td>12.9</td>\n",
       "    </tr>\n",
       "  </tbody>\n",
       "</table>\n",
       "</div>"
      ],
      "text/plain": [
       "      TV  radio  newspaper  sales\n",
       "0  230.1   37.8       69.2   22.1\n",
       "1   44.5   39.3       45.1   10.4\n",
       "2   17.2   45.9       69.3    9.3\n",
       "3  151.5   41.3       58.5   18.5\n",
       "4  180.8   10.8       58.4   12.9"
      ]
     },
     "execution_count": 70,
     "metadata": {},
     "output_type": "execute_result"
    }
   ],
   "source": [
    "df=df.drop(columns='Unnamed: 0')\n",
    "df.head()"
   ]
  },
  {
   "cell_type": "code",
   "execution_count": 72,
   "id": "53efacc6-e600-4705-b180-3d297324a244",
   "metadata": {},
   "outputs": [],
   "source": [
    "tv=df.TV.values.reshape([-1,1])\n",
    "radio=df.radio.values.reshape([-1,1])\n",
    "newsp=df.newspaper.values.reshape([-1,1])\n",
    "salesy=df.sales\n"
   ]
  },
  {
   "cell_type": "markdown",
   "id": "99d84f9f-f0aa-432b-b141-b1b14c192f01",
   "metadata": {},
   "source": [
    "## Sin penalización"
   ]
  },
  {
   "cell_type": "code",
   "execution_count": 105,
   "id": "52132ed1-33df-42d0-a6df-c035015fd00d",
   "metadata": {},
   "outputs": [],
   "source": [
    "n1=len(salesy)\n",
    "unos=np.ones([n1,1])\n",
    "X=np.hstack([unos,tv,radio,newsp])\n"
   ]
  },
  {
   "cell_type": "code",
   "execution_count": 143,
   "id": "cabdd9b5-a606-4102-8e90-6801d40a0784",
   "metadata": {},
   "outputs": [
    {
     "name": "stdout",
     "output_type": "stream",
     "text": [
      "Intercepto Beta_0: 2.9388893694594085\n",
      "Coeficientes: [ 0.          0.04576465  0.18853002 -0.00103749]\n"
     ]
    }
   ],
   "source": [
    "lr = LinearRegression()\n",
    "lr.fit(X, salesy)\n",
    "beta0 = lr.intercept_\n",
    "betas = lr.coef_\n",
    "print(\"Intercepto Beta_0:\", beta0)\n",
    "print(\"Coeficientes:\", betas)"
   ]
  },
  {
   "cell_type": "code",
   "execution_count": 145,
   "id": "06870e79-7d93-4f25-882a-6ac278357c6b",
   "metadata": {},
   "outputs": [
    {
     "name": "stdout",
     "output_type": "stream",
     "text": [
      "RSS:  556.8252629021872\n",
      "2.812248802536299\n"
     ]
    }
   ],
   "source": [
    "rss=np.sum((salesy-lr.predict(X))**2)\n",
    "print(\"RSS: \", rss)\n",
    "n=len(salesy)\n",
    "var=rss/(n-2)\n",
    "print(var)"
   ]
  },
  {
   "cell_type": "code",
   "execution_count": 147,
   "id": "ebf652fd-413e-47cb-a48c-f6a2e0020e98",
   "metadata": {},
   "outputs": [
    {
     "name": "stdout",
     "output_type": "stream",
     "text": [
      "Error estandar de beta 0:  0.12558553995430408\n"
     ]
    }
   ],
   "source": [
    "xmed = np.mean(X)\n",
    "seb0=((var)*((1/n1)+(((xmed)**2)/(np.sum((X-xmed)**2)))))**0.5\n",
    "print(\"Error estandar de beta 0: \",seb0)"
   ]
  },
  {
   "cell_type": "code",
   "execution_count": 149,
   "id": "8d66207f-bd53-474b-b41c-55d44a789361",
   "metadata": {},
   "outputs": [
    {
     "name": "stdout",
     "output_type": "stream",
     "text": [
      "Error estandar de beta 1:  0.0008195361845936359\n"
     ]
    }
   ],
   "source": [
    "seb1=(var/(np.sum((X-xmed)**2)))**0.5\n",
    "print(\"Error estandar de beta 1: \",seb1)"
   ]
  },
  {
   "cell_type": "code",
   "execution_count": 151,
   "id": "e3f5c75c-2a5a-4e4d-9c4c-06dac77ee515",
   "metadata": {},
   "outputs": [
    {
     "name": "stdout",
     "output_type": "stream",
     "text": [
      "Valor t de beta 1:  [  0.          55.84212914 230.04477467  -1.26595148]\n"
     ]
    }
   ],
   "source": [
    "t1=betas/seb1\n",
    "print(\"Valor t de beta 1: \",t1)"
   ]
  },
  {
   "cell_type": "code",
   "execution_count": 194,
   "id": "5d5ebfd4-a39f-49a8-8dde-b371da24794a",
   "metadata": {},
   "outputs": [
    {
     "name": "stdout",
     "output_type": "stream",
     "text": [
      "p-value:  [1.         0.         0.         0.20701794]\n"
     ]
    }
   ],
   "source": [
    "from scipy import stats\n",
    "p_sp=2*(1-stats.t.cdf(np.abs(t1),n1-2))\n",
    "print(\"p-value: \", p_sp)"
   ]
  },
  {
   "cell_type": "code",
   "execution_count": 155,
   "id": "2eeaed50-11b2-4ee3-b104-18a3deb8adf3",
   "metadata": {},
   "outputs": [
    {
     "name": "stdout",
     "output_type": "stream",
     "text": [
      "R^2:  0.8972106381789522\n"
     ]
    }
   ],
   "source": [
    "y_pred = lr.predict(X)\n",
    "r2=r2_score(salesy,y_pred)\n",
    "print(\"R^2: \", r2)"
   ]
  },
  {
   "cell_type": "code",
   "execution_count": 157,
   "id": "0b781fff-4a33-4c53-8cb3-1e127a9a63a4",
   "metadata": {},
   "outputs": [
    {
     "data": {
      "text/html": [
       "<table class=\"simpletable\">\n",
       "<caption>OLS Regression Results</caption>\n",
       "<tr>\n",
       "  <th>Dep. Variable:</th>          <td>sales</td>      <th>  R-squared:         </th> <td>   0.897</td>\n",
       "</tr>\n",
       "<tr>\n",
       "  <th>Model:</th>                   <td>OLS</td>       <th>  Adj. R-squared:    </th> <td>   0.896</td>\n",
       "</tr>\n",
       "<tr>\n",
       "  <th>Method:</th>             <td>Least Squares</td>  <th>  F-statistic:       </th> <td>   570.3</td>\n",
       "</tr>\n",
       "<tr>\n",
       "  <th>Date:</th>             <td>Thu, 11 Sep 2025</td> <th>  Prob (F-statistic):</th> <td>1.58e-96</td>\n",
       "</tr>\n",
       "<tr>\n",
       "  <th>Time:</th>                 <td>11:23:29</td>     <th>  Log-Likelihood:    </th> <td> -386.18</td>\n",
       "</tr>\n",
       "<tr>\n",
       "  <th>No. Observations:</th>      <td>   200</td>      <th>  AIC:               </th> <td>   780.4</td>\n",
       "</tr>\n",
       "<tr>\n",
       "  <th>Df Residuals:</th>          <td>   196</td>      <th>  BIC:               </th> <td>   793.6</td>\n",
       "</tr>\n",
       "<tr>\n",
       "  <th>Df Model:</th>              <td>     3</td>      <th>                     </th>     <td> </td>   \n",
       "</tr>\n",
       "<tr>\n",
       "  <th>Covariance Type:</th>      <td>nonrobust</td>    <th>                     </th>     <td> </td>   \n",
       "</tr>\n",
       "</table>\n",
       "<table class=\"simpletable\">\n",
       "<tr>\n",
       "    <td></td>       <th>coef</th>     <th>std err</th>      <th>t</th>      <th>P>|t|</th>  <th>[0.025</th>    <th>0.975]</th>  \n",
       "</tr>\n",
       "<tr>\n",
       "  <th>const</th> <td>    2.9389</td> <td>    0.312</td> <td>    9.422</td> <td> 0.000</td> <td>    2.324</td> <td>    3.554</td>\n",
       "</tr>\n",
       "<tr>\n",
       "  <th>x1</th>    <td>    0.0458</td> <td>    0.001</td> <td>   32.809</td> <td> 0.000</td> <td>    0.043</td> <td>    0.049</td>\n",
       "</tr>\n",
       "<tr>\n",
       "  <th>x2</th>    <td>    0.1885</td> <td>    0.009</td> <td>   21.893</td> <td> 0.000</td> <td>    0.172</td> <td>    0.206</td>\n",
       "</tr>\n",
       "<tr>\n",
       "  <th>x3</th>    <td>   -0.0010</td> <td>    0.006</td> <td>   -0.177</td> <td> 0.860</td> <td>   -0.013</td> <td>    0.011</td>\n",
       "</tr>\n",
       "</table>\n",
       "<table class=\"simpletable\">\n",
       "<tr>\n",
       "  <th>Omnibus:</th>       <td>60.414</td> <th>  Durbin-Watson:     </th> <td>   2.084</td>\n",
       "</tr>\n",
       "<tr>\n",
       "  <th>Prob(Omnibus):</th> <td> 0.000</td> <th>  Jarque-Bera (JB):  </th> <td> 151.241</td>\n",
       "</tr>\n",
       "<tr>\n",
       "  <th>Skew:</th>          <td>-1.327</td> <th>  Prob(JB):          </th> <td>1.44e-33</td>\n",
       "</tr>\n",
       "<tr>\n",
       "  <th>Kurtosis:</th>      <td> 6.332</td> <th>  Cond. No.          </th> <td>    454.</td>\n",
       "</tr>\n",
       "</table><br/><br/>Notes:<br/>[1] Standard Errors assume that the covariance matrix of the errors is correctly specified."
      ],
      "text/latex": [
       "\\begin{center}\n",
       "\\begin{tabular}{lclc}\n",
       "\\toprule\n",
       "\\textbf{Dep. Variable:}    &      sales       & \\textbf{  R-squared:         } &     0.897   \\\\\n",
       "\\textbf{Model:}            &       OLS        & \\textbf{  Adj. R-squared:    } &     0.896   \\\\\n",
       "\\textbf{Method:}           &  Least Squares   & \\textbf{  F-statistic:       } &     570.3   \\\\\n",
       "\\textbf{Date:}             & Thu, 11 Sep 2025 & \\textbf{  Prob (F-statistic):} &  1.58e-96   \\\\\n",
       "\\textbf{Time:}             &     11:23:29     & \\textbf{  Log-Likelihood:    } &   -386.18   \\\\\n",
       "\\textbf{No. Observations:} &         200      & \\textbf{  AIC:               } &     780.4   \\\\\n",
       "\\textbf{Df Residuals:}     &         196      & \\textbf{  BIC:               } &     793.6   \\\\\n",
       "\\textbf{Df Model:}         &           3      & \\textbf{                     } &             \\\\\n",
       "\\textbf{Covariance Type:}  &    nonrobust     & \\textbf{                     } &             \\\\\n",
       "\\bottomrule\n",
       "\\end{tabular}\n",
       "\\begin{tabular}{lcccccc}\n",
       "               & \\textbf{coef} & \\textbf{std err} & \\textbf{t} & \\textbf{P$> |$t$|$} & \\textbf{[0.025} & \\textbf{0.975]}  \\\\\n",
       "\\midrule\n",
       "\\textbf{const} &       2.9389  &        0.312     &     9.422  &         0.000        &        2.324    &        3.554     \\\\\n",
       "\\textbf{x1}    &       0.0458  &        0.001     &    32.809  &         0.000        &        0.043    &        0.049     \\\\\n",
       "\\textbf{x2}    &       0.1885  &        0.009     &    21.893  &         0.000        &        0.172    &        0.206     \\\\\n",
       "\\textbf{x3}    &      -0.0010  &        0.006     &    -0.177  &         0.860        &       -0.013    &        0.011     \\\\\n",
       "\\bottomrule\n",
       "\\end{tabular}\n",
       "\\begin{tabular}{lclc}\n",
       "\\textbf{Omnibus:}       & 60.414 & \\textbf{  Durbin-Watson:     } &    2.084  \\\\\n",
       "\\textbf{Prob(Omnibus):} &  0.000 & \\textbf{  Jarque-Bera (JB):  } &  151.241  \\\\\n",
       "\\textbf{Skew:}          & -1.327 & \\textbf{  Prob(JB):          } & 1.44e-33  \\\\\n",
       "\\textbf{Kurtosis:}      &  6.332 & \\textbf{  Cond. No.          } &     454.  \\\\\n",
       "\\bottomrule\n",
       "\\end{tabular}\n",
       "%\\caption{OLS Regression Results}\n",
       "\\end{center}\n",
       "\n",
       "Notes: \\newline\n",
       " [1] Standard Errors assume that the covariance matrix of the errors is correctly specified."
      ],
      "text/plain": [
       "<class 'statsmodels.iolib.summary.Summary'>\n",
       "\"\"\"\n",
       "                            OLS Regression Results                            \n",
       "==============================================================================\n",
       "Dep. Variable:                  sales   R-squared:                       0.897\n",
       "Model:                            OLS   Adj. R-squared:                  0.896\n",
       "Method:                 Least Squares   F-statistic:                     570.3\n",
       "Date:                Thu, 11 Sep 2025   Prob (F-statistic):           1.58e-96\n",
       "Time:                        11:23:29   Log-Likelihood:                -386.18\n",
       "No. Observations:                 200   AIC:                             780.4\n",
       "Df Residuals:                     196   BIC:                             793.6\n",
       "Df Model:                           3                                         \n",
       "Covariance Type:            nonrobust                                         \n",
       "==============================================================================\n",
       "                 coef    std err          t      P>|t|      [0.025      0.975]\n",
       "------------------------------------------------------------------------------\n",
       "const          2.9389      0.312      9.422      0.000       2.324       3.554\n",
       "x1             0.0458      0.001     32.809      0.000       0.043       0.049\n",
       "x2             0.1885      0.009     21.893      0.000       0.172       0.206\n",
       "x3            -0.0010      0.006     -0.177      0.860      -0.013       0.011\n",
       "==============================================================================\n",
       "Omnibus:                       60.414   Durbin-Watson:                   2.084\n",
       "Prob(Omnibus):                  0.000   Jarque-Bera (JB):              151.241\n",
       "Skew:                          -1.327   Prob(JB):                     1.44e-33\n",
       "Kurtosis:                       6.332   Cond. No.                         454.\n",
       "==============================================================================\n",
       "\n",
       "Notes:\n",
       "[1] Standard Errors assume that the covariance matrix of the errors is correctly specified.\n",
       "\"\"\""
      ]
     },
     "execution_count": 157,
     "metadata": {},
     "output_type": "execute_result"
    }
   ],
   "source": [
    "ols= sm.OLS(salesy,X)\n",
    "results=ols.fit()\n",
    "results.summary()"
   ]
  },
  {
   "cell_type": "markdown",
   "id": "d10aceb7-2819-475a-8392-735376d6d158",
   "metadata": {},
   "source": [
    "## Con penalización L2"
   ]
  },
  {
   "cell_type": "code",
   "execution_count": 160,
   "id": "99bb948d-3870-46ea-894b-03421a5d5ee9",
   "metadata": {},
   "outputs": [
    {
     "name": "stdout",
     "output_type": "stream",
     "text": [
      "Intercepto:  2.93892841431542\n"
     ]
    }
   ],
   "source": [
    "ridge = Ridge(alpha=0.5)\n",
    "ridge.fit(X, salesy)\n",
    "inter=ridge.intercept_\n",
    "print(\"Intercepto: \",inter) "
   ]
  },
  {
   "cell_type": "code",
   "execution_count": 162,
   "id": "491a85e2-6692-4745-96fe-7b8d9334f7f9",
   "metadata": {},
   "outputs": [
    {
     "name": "stdout",
     "output_type": "stream",
     "text": [
      "Coeficientes:  [ 0.          0.04576464  0.18852756 -0.00103689]\n"
     ]
    }
   ],
   "source": [
    "coef=ridge.coef_\n",
    "print(\"Coeficientes: \", coef)"
   ]
  },
  {
   "cell_type": "code",
   "execution_count": 164,
   "id": "8314ac0e-eeea-400f-8e6d-312371f79c28",
   "metadata": {},
   "outputs": [
    {
     "name": "stdout",
     "output_type": "stream",
     "text": [
      "RSS:  556.8252631344158\n",
      "2.8122488037091706\n"
     ]
    }
   ],
   "source": [
    "rss2=np.sum((salesy-ridge.predict(X))**2)\n",
    "print(\"RSS: \",rss2)\n",
    "n=len(salesy)\n",
    "var2=rss2/(n-2)\n",
    "print(var2)"
   ]
  },
  {
   "cell_type": "code",
   "execution_count": 166,
   "id": "5223f40e-89d9-4497-af08-9d21aae2af1d",
   "metadata": {},
   "outputs": [
    {
     "name": "stdout",
     "output_type": "stream",
     "text": [
      "Error estandar de beta 0:  0.12558553998049232\n"
     ]
    }
   ],
   "source": [
    "xmed2 = np.mean(X)\n",
    "seb_2=((var2)*((1/n1)+(((xmed2)**2)/(np.sum((X-xmed2)**2)))))**0.5\n",
    "print(\"Error estandar de beta 0: \",seb_2)"
   ]
  },
  {
   "cell_type": "code",
   "execution_count": 168,
   "id": "1bb99f73-e301-460f-94ed-a582d8620857",
   "metadata": {},
   "outputs": [
    {
     "name": "stdout",
     "output_type": "stream",
     "text": [
      "Error estandar de beta 1:  0.0008195361847645331\n"
     ]
    }
   ],
   "source": [
    "seb1_2=(var2/(np.sum((X-xmed2)**2)))**0.5\n",
    "print(\"Error estandar de beta 1: \",seb1_2)"
   ]
  },
  {
   "cell_type": "code",
   "execution_count": 170,
   "id": "2e2f815b-d299-49ab-8353-dc97911d9556",
   "metadata": {},
   "outputs": [
    {
     "name": "stdout",
     "output_type": "stream",
     "text": [
      "Valor t de beta 1:  [  0.          55.84212804 230.04177286  -1.2652199 ]\n"
     ]
    }
   ],
   "source": [
    "t1_2=coef/seb1\n",
    "print(\"Valor t de beta 1: \",t1_2)"
   ]
  },
  {
   "cell_type": "code",
   "execution_count": 172,
   "id": "06ae7c17-52f8-4964-9064-a821f06ef1e7",
   "metadata": {},
   "outputs": [
    {
     "name": "stdout",
     "output_type": "stream",
     "text": [
      "p-value:  [1.         0.         0.         0.20727945]\n"
     ]
    }
   ],
   "source": [
    "\n",
    "p_ridge=2*(1-stats.t.cdf(np.abs(t1_2),n1-2))\n",
    "print(\"p-value: \", p_ridge)"
   ]
  },
  {
   "cell_type": "code",
   "execution_count": 174,
   "id": "23305d6e-4bbf-47e6-977c-a3b932892e96",
   "metadata": {},
   "outputs": [
    {
     "name": "stdout",
     "output_type": "stream",
     "text": [
      "R^2:  0.8972106381360829\n"
     ]
    }
   ],
   "source": [
    "y_pred_ridge = ridge.predict(X)\n",
    "r2=r2_score(salesy,y_pred_ridge)\n",
    "print(\"R^2: \", r2)"
   ]
  },
  {
   "cell_type": "markdown",
   "id": "8bf94df2-a4ec-4d3a-9e2c-3b8b77eb308f",
   "metadata": {},
   "source": [
    "## Con Penalización L1"
   ]
  },
  {
   "cell_type": "code",
   "execution_count": 177,
   "id": "179a06ff-0ca3-4f3e-b545-73eeeeb29501",
   "metadata": {},
   "outputs": [
    {
     "name": "stdout",
     "output_type": "stream",
     "text": [
      "Intercepto:  2.980656625064583\n"
     ]
    }
   ],
   "source": [
    "lasso = Lasso(alpha=0.5)\n",
    "lasso.fit(X, salesy)\n",
    "interla=lasso.intercept_\n",
    "print(\"Intercepto: \",interla) "
   ]
  },
  {
   "cell_type": "code",
   "execution_count": 179,
   "id": "b64bcc82-1a44-4e50-8681-5efdf21d8617",
   "metadata": {},
   "outputs": [
    {
     "name": "stdout",
     "output_type": "stream",
     "text": [
      "Coeficientes:  [ 0.          0.04570812  0.18572931 -0.        ]\n"
     ]
    }
   ],
   "source": [
    "coefla=lasso.coef_\n",
    "print(\"Coeficientes: \",coefla)"
   ]
  },
  {
   "cell_type": "code",
   "execution_count": 181,
   "id": "f2b0fe8a-2225-4b2c-be8b-58b538a20915",
   "metadata": {},
   "outputs": [
    {
     "name": "stdout",
     "output_type": "stream",
     "text": [
      "RSS:  557.1451398714054\n",
      "2.8138643427848757\n"
     ]
    }
   ],
   "source": [
    "rss1=np.sum((salesy-lasso.predict(X))**2)\n",
    "print(\"RSS: \",rss1)\n",
    "n=len(salesy)\n",
    "var1=rss1/(n-2)\n",
    "print(var1)"
   ]
  },
  {
   "cell_type": "code",
   "execution_count": 183,
   "id": "ac6eda33-d836-4425-8421-8f1baa77d169",
   "metadata": {},
   "outputs": [
    {
     "name": "stdout",
     "output_type": "stream",
     "text": [
      "Error estandar de beta 0:  0.1256216070626806\n"
     ]
    }
   ],
   "source": [
    "xmed1 = np.mean(X)\n",
    "seb0=((var1)*((1/n1)+(((xmed1)**2)/(np.sum((X-xmed1)**2)))))**0.5\n",
    "print(\"Error estandar de beta 0: \",seb0)"
   ]
  },
  {
   "cell_type": "code",
   "execution_count": 185,
   "id": "f5fb89ac-1898-4934-8282-017abdd0d737",
   "metadata": {},
   "outputs": [
    {
     "name": "stdout",
     "output_type": "stream",
     "text": [
      "Error estandar de beta 1:  0.0008197715484770813\n"
     ]
    }
   ],
   "source": [
    "seb1_1=(var1/(np.sum((X-xmed1)**2)))**0.5\n",
    "print(\"Error estandar de beta 1: \",seb1_1)"
   ]
  },
  {
   "cell_type": "code",
   "execution_count": 187,
   "id": "c58b40d9-1643-45f9-b486-7b9d47506791",
   "metadata": {},
   "outputs": [
    {
     "name": "stdout",
     "output_type": "stream",
     "text": [
      "Valor t de beta 1:  [  0.          55.75714767 226.56227811  -0.        ]\n"
     ]
    }
   ],
   "source": [
    "t1_1=coefla/seb1_1\n",
    "print(\"Valor t de beta 1: \",t1_1)"
   ]
  },
  {
   "cell_type": "code",
   "execution_count": 189,
   "id": "fb464b9a-dc9e-4b78-8399-8bdcfbf1f613",
   "metadata": {},
   "outputs": [
    {
     "name": "stdout",
     "output_type": "stream",
     "text": [
      "p-value:  [1. 0. 0. 1.]\n"
     ]
    }
   ],
   "source": [
    "\n",
    "p_lasso=2*(1-stats.t.cdf(np.abs(t1_1),n1-2))\n",
    "print(\"p-value: \", p_lasso)"
   ]
  },
  {
   "cell_type": "code",
   "execution_count": 191,
   "id": "52420b9a-2f8f-45b3-9351-f8b67b3ca13f",
   "metadata": {},
   "outputs": [
    {
     "name": "stdout",
     "output_type": "stream",
     "text": [
      "R^2:  0.8971515892246072\n"
     ]
    }
   ],
   "source": [
    "y_pred_lasso=lasso.predict(X)\n",
    "r2_lasso=r2_score(salesy,y_pred_lasso)\n",
    "print(\"R^2: \",r2_lasso)"
   ]
  },
  {
   "cell_type": "markdown",
   "id": "a994c067-45ef-42e7-b943-8632e19d04ce",
   "metadata": {},
   "source": [
    "Podemos observar que la R^2 nos dio la misma en los calculos de la regresión sin penalización y L2, con un valor de 0.89721, mientras que en la L1 nos da 0.89715. Así mismo, los valores de intercepto y los coeficientes son iguales en L2 y en la sin penalización. Sin embargo, en L1 encontramos datos distintos, ya que, en L1 puede llevar a los coeficientes a ser exactamente 0, considerando que estos coeficientes de estas variables no son significativas."
   ]
  },
  {
   "cell_type": "code",
   "execution_count": null,
   "id": "9f282615-b051-4d9b-9374-2ea9ca397146",
   "metadata": {},
   "outputs": [],
   "source": []
  }
 ],
 "metadata": {
  "kernelspec": {
   "display_name": "Python [conda env:base] *",
   "language": "python",
   "name": "conda-base-py"
  },
  "language_info": {
   "codemirror_mode": {
    "name": "ipython",
    "version": 3
   },
   "file_extension": ".py",
   "mimetype": "text/x-python",
   "name": "python",
   "nbconvert_exporter": "python",
   "pygments_lexer": "ipython3",
   "version": "3.12.7"
  }
 },
 "nbformat": 4,
 "nbformat_minor": 5
}
