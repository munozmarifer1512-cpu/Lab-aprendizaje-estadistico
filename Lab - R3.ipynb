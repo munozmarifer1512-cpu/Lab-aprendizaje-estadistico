{
 "cells": [
  {
   "cell_type": "markdown",
   "id": "de16ac05-1760-49ad-b40c-327a96a8e846",
   "metadata": {},
   "source": [
    "# Laboratorio de regresión - 3"
   ]
  },
  {
   "cell_type": "markdown",
   "id": "1db0fb70-ca43-47f7-bbfd-fd06ca0e25f2",
   "metadata": {},
   "source": [
    "## Significancia de factores"
   ]
  },
  {
   "cell_type": "markdown",
   "id": "6043c593-39d1-405c-b92e-487314170cf6",
   "metadata": {},
   "source": [
    "|                |   |\r\n",
    ":----------------|---|\r\n",
    "| **Nombre**     María Fernanda Muñoz Sevilla|   |\r\n",
    "| **Fecha**     25/08/2025 |   |\r\n",
    "| **Expediente** 751190 |   |"
   ]
  },
  {
   "cell_type": "markdown",
   "id": "2cfabde4-866e-4f00-8a37-9d57f2bebbb6",
   "metadata": {},
   "source": [
    "Descarga el archivo de publicidad y carga los datos (Advertising.csv)."
   ]
  },
  {
   "cell_type": "code",
   "execution_count": 209,
   "id": "07527ab6-7c18-48b5-9779-d5e6e5da289b",
   "metadata": {},
   "outputs": [],
   "source": [
    "import pandas as pd\n",
    "from sklearn.linear_model import LinearRegression\n",
    "import numpy as np\n",
    "import matplotlib.pyplot as plt\n",
    "from sklearn.metrics import r2_score"
   ]
  },
  {
   "cell_type": "code",
   "execution_count": 211,
   "id": "f76bcb16-5b02-42aa-846f-fb890b34af26",
   "metadata": {},
   "outputs": [
    {
     "data": {
      "text/html": [
       "<div>\n",
       "<style scoped>\n",
       "    .dataframe tbody tr th:only-of-type {\n",
       "        vertical-align: middle;\n",
       "    }\n",
       "\n",
       "    .dataframe tbody tr th {\n",
       "        vertical-align: top;\n",
       "    }\n",
       "\n",
       "    .dataframe thead th {\n",
       "        text-align: right;\n",
       "    }\n",
       "</style>\n",
       "<table border=\"1\" class=\"dataframe\">\n",
       "  <thead>\n",
       "    <tr style=\"text-align: right;\">\n",
       "      <th></th>\n",
       "      <th>Unnamed: 0</th>\n",
       "      <th>TV</th>\n",
       "      <th>radio</th>\n",
       "      <th>newspaper</th>\n",
       "      <th>sales</th>\n",
       "    </tr>\n",
       "  </thead>\n",
       "  <tbody>\n",
       "    <tr>\n",
       "      <th>0</th>\n",
       "      <td>1</td>\n",
       "      <td>230.1</td>\n",
       "      <td>37.8</td>\n",
       "      <td>69.2</td>\n",
       "      <td>22.1</td>\n",
       "    </tr>\n",
       "    <tr>\n",
       "      <th>1</th>\n",
       "      <td>2</td>\n",
       "      <td>44.5</td>\n",
       "      <td>39.3</td>\n",
       "      <td>45.1</td>\n",
       "      <td>10.4</td>\n",
       "    </tr>\n",
       "    <tr>\n",
       "      <th>2</th>\n",
       "      <td>3</td>\n",
       "      <td>17.2</td>\n",
       "      <td>45.9</td>\n",
       "      <td>69.3</td>\n",
       "      <td>9.3</td>\n",
       "    </tr>\n",
       "    <tr>\n",
       "      <th>3</th>\n",
       "      <td>4</td>\n",
       "      <td>151.5</td>\n",
       "      <td>41.3</td>\n",
       "      <td>58.5</td>\n",
       "      <td>18.5</td>\n",
       "    </tr>\n",
       "    <tr>\n",
       "      <th>4</th>\n",
       "      <td>5</td>\n",
       "      <td>180.8</td>\n",
       "      <td>10.8</td>\n",
       "      <td>58.4</td>\n",
       "      <td>12.9</td>\n",
       "    </tr>\n",
       "  </tbody>\n",
       "</table>\n",
       "</div>"
      ],
      "text/plain": [
       "   Unnamed: 0     TV  radio  newspaper  sales\n",
       "0           1  230.1   37.8       69.2   22.1\n",
       "1           2   44.5   39.3       45.1   10.4\n",
       "2           3   17.2   45.9       69.3    9.3\n",
       "3           4  151.5   41.3       58.5   18.5\n",
       "4           5  180.8   10.8       58.4   12.9"
      ]
     },
     "execution_count": 211,
     "metadata": {},
     "output_type": "execute_result"
    }
   ],
   "source": [
    "df= pd.read_csv(\"C:/Users/munoz/Downloads/lab_apre_est/Advertising.csv\")\n",
    "df.head()"
   ]
  },
  {
   "cell_type": "markdown",
   "id": "f81535ac-87ca-490e-89e7-0564c31f73f0",
   "metadata": {},
   "source": [
    "**¿Hay alguna relación entre el presupuesto para publicidad y las ventas?**\n",
    "\n",
    "Nuestra primera meta debe ser determinar si hay evidencia en los datos de que haya una asociación entre estas variables.\n",
    "\n",
    "- ¿Por qué? ¿Qué resultaría si nos diéramos cuenta de la falta de relación entre el presupuesto de publicidad y las ventas?"
   ]
  },
  {
   "cell_type": "markdown",
   "id": "e5ed6dff-daa6-4680-ae46-1892fbe61743",
   "metadata": {},
   "source": [
    "Es importante que sepamos si existe una relación entre las ventas y la publicidad, porque la publicidad es uno de los campos más importantes para promover nuestro producto para que este llegue al conocimiento de más personas, y así incrementar las ventas. Por lo que, si observamos que el presupuesto de publicidad y las ventas no tienen relación, entonces estamos desperdiciando dinero en un rubro que no nos ofrece nada positivo, generando puros gastos, provocando que tomemos nuevas decisiones sobre en que otros rubros podemos invertir para hacer que las ventas aumenten. Es por esto, que es importante conocer las relaciones de nuestros datos, para poder tener una mejor conprensión de ellos, como se relacionan, y como podemos actuar después de esto."
   ]
  },
  {
   "cell_type": "markdown",
   "id": "3ff47351-fa8b-4c19-93ce-d68dce869913",
   "metadata": {},
   "source": [
    "**¿Qué tan fuerte es esta relación?**\n",
    "Asumiendo que existe esta relación, ¿nos sirve conocer el impacto que tiene invertir en publicidad en las ventas?"
   ]
  },
  {
   "cell_type": "markdown",
   "id": "f4f729ab-b3c5-45f2-be4d-679b009f3d98",
   "metadata": {},
   "source": [
    "Suponiendo que la relación esxite, nos ayudaría a saber si el invertir en la publicidad es favorable o no, en este caso sería ver que tanto vendemos gracias al medio de comunicación por el que se enteraron las personas del producto y por el cual decidieron comprarlo. Así mismo, podemos ver que tipo de publicidad es mejor y cual es peor, para saber en que medio invertir más, sabiendo que nos dará más beneficios, y en cual invertir menos o dejar de invertir, ya que, los beneficios son muy pocos o nulos."
   ]
  },
  {
   "cell_type": "markdown",
   "id": "4cd03e68-778f-49cc-9161-a2fff241af56",
   "metadata": {},
   "source": [
    "**¿Cuáles medios están asociados con las ventas? ¿Qué tan grande es la asociación entre un medio específico y las ventas?**\n",
    "\n",
    "Hay 3 medios distintos en los datos. ¿Sirve invertir en los 3? ¿Conviene más invertir sólo en uno?\n",
    "\n",
    "**¿Qué tan seguros estamos de que podríamos predecir ventas futuras?**\n",
    "\n",
    "**¿La relación es lineal?**\n",
    "\n",
    "**¿Hay sinergia entre estos medios?**\n",
    "\n",
    "Puede ser que gastar \\\\$50,000 en publicidad y otros \\\\$50,000 en radio es mejor opción que gastar \\\\$100,000 en televisión. A esto le llamamos efecto de interacción.\n",
    "\n",
    "Podemos usar regresión lineal para responder todas estas preguntas."
   ]
  },
  {
   "cell_type": "markdown",
   "id": "cb3f1c79-027e-4af9-b61b-82e4a45df0bb",
   "metadata": {},
   "source": [
    "Realiza una regresión lineal:\n",
    "\n",
    "$$ \\text{ventas} \\approx \\beta_0 + (\\beta_1)(\\text{TV})$$"
   ]
  },
  {
   "cell_type": "code",
   "execution_count": 213,
   "id": "82dd5260-ff12-4261-b325-40f70c7e3783",
   "metadata": {},
   "outputs": [],
   "source": [
    "x1 = df.TV.values.reshape([-1,1])\n",
    "y1= df.sales"
   ]
  },
  {
   "cell_type": "code",
   "execution_count": 215,
   "id": "5c5d518d-a3da-4b63-acd9-0481b231408d",
   "metadata": {},
   "outputs": [
    {
     "name": "stdout",
     "output_type": "stream",
     "text": [
      "Beta 0:  7.032593549127693\n"
     ]
    }
   ],
   "source": [
    "lr=LinearRegression()\n",
    "lr.fit(x1,y1)\n",
    "beta0=lr.intercept_\n",
    "print(\"Beta 0: \",beta0)"
   ]
  },
  {
   "cell_type": "code",
   "execution_count": 217,
   "id": "b7f11512-1a7e-4cda-869d-c6eb6847564c",
   "metadata": {},
   "outputs": [
    {
     "name": "stdout",
     "output_type": "stream",
     "text": [
      "Beta 1:  [0.04753664]\n"
     ]
    }
   ],
   "source": [
    "beta1=lr.coef_\n",
    "print(\"Beta 1: \",beta1)\n"
   ]
  },
  {
   "cell_type": "markdown",
   "id": "a84ba655-7b09-482a-992f-02380dd54209",
   "metadata": {},
   "source": [
    "### Verificando la precisión de nuestros coeficientes estimados"
   ]
  },
  {
   "cell_type": "markdown",
   "id": "30733e87-7be2-477f-84c2-d430ad1a2a5d",
   "metadata": {},
   "source": [
    "Recuerda que en el mundo real hay ruidos y errores de medición. Siempre se asume que la verdadera relación entre $X$ y $Y$ es $$Y = \\beta_0 + \\beta_1 X + \\epsilon$$"
   ]
  },
  {
   "cell_type": "markdown",
   "id": "af33c415-790e-4e28-bcd5-8f94ac545822",
   "metadata": {},
   "source": [
    "Se asume que el término de error es independiente de $X$ (el error siempre es el mismo sin importar el valor de $X$). Este modelo describe a la *línea de regresión de la población*, que es la mejor aproximación de la verdadera relación entre $X$ y $Y$. Cuando usamos mínimos cuadrados encontramos la *línea de mínimos cuadrados*."
   ]
  },
  {
   "cell_type": "markdown",
   "id": "86d80b2d-2c96-4fa7-8348-29e8215e4e2e",
   "metadata": {},
   "source": [
    "¿Cuál es la diferencia entre población y muestra?"
   ]
  },
  {
   "cell_type": "markdown",
   "id": "ec345b97-255d-45a2-95ea-487212a02644",
   "metadata": {},
   "source": [
    "La población es el conjunto de todos los datos o elementos que queremos analizar, sin embargo, como pueden llegar a ser extremadamente grandes estos datos, los separamos por partes que representen esta población, y esto es la muestra. En pocas palabras, la población es el todo y la muestra es una parte de ese todo.\n"
   ]
  },
  {
   "cell_type": "markdown",
   "id": "ea74ba36-845f-44fe-89e4-442b66f44d9d",
   "metadata": {},
   "source": [
    "¿Cuál crees que sea la diferencia entre hacer una regresión con todos los datos de la población y una muestra de ella?"
   ]
  },
  {
   "cell_type": "markdown",
   "id": "1563051a-01a3-4a4e-bff2-f12c7d113b15",
   "metadata": {},
   "source": [
    "Que cuando analizamos toda la población estaríamos teniendo los resultados exactos, mientras que con la muestra solo podemos obtener las estimaciones, teniendo errores estándar e intervalos de confianza. Sin embargo, debido a la gran cantidad de datos que puede tener una población se vuelve más compleja y pesada de analizar, es por esto que norlmamente realizamos regresiones de las muestras."
   ]
  },
  {
   "cell_type": "markdown",
   "id": "c123335b-5299-4f2e-ac8e-4b1e40754221",
   "metadata": {},
   "source": [
    "La línea de regresión de la población no se puede observar. El concepto de comparar estas líneas es una extensión natural del acercamiento estadístico estándar de usar información de una muestra para estimar características de una población grande."
   ]
  },
  {
   "cell_type": "markdown",
   "id": "5b0d26b9-18de-4467-a836-3f75b228a363",
   "metadata": {},
   "source": [
    "Imagina que quieres encontrar la altura promedio de un mexicano $\\mu$. Medir a todos y cada uno de los mexicanos en situaciones similares, con la misma regla, mismo operador, y otras incontables formas de minimizar la variación de la medida es una tarea imposible. Lo que podemos asumir es que $\\hat{\\mu} = \\bar{y}$. La media poblacional y la media muestral son diferentes, pero la media muestral es usualmente un buen estimado.\n",
    "\n",
    "De la misma manera, como no contamos con el 100% de la información para hacer una regresión, los coeficientes $\\beta_0$ y $\\beta_1$ son desconocidos. Podemos estimarlos usando mínimos cuadrados, encontrando $\\hat{\\beta_0}$ y $\\hat{\\beta_1}$. Puede que las muestras que tengamos en ese momento estén un poco por encima de la media, pero otras muestras en otro momento puede que estén debajo de la media. En general, esperamos que el promedio de las aproximaciones $\\hat{\\mu}$ aproxime a $\\mu$."
   ]
  },
  {
   "cell_type": "markdown",
   "id": "7fff6312-57a0-4c9f-aaa9-f22f6294c71c",
   "metadata": {},
   "source": [
    "Esto lleva a la pregunta: ¿qué tan cercanos son nuestros coeficientes estimados a los verdaderos coeficientes? Utilizamos el concepto de error estándar para evaluar esto.\n",
    "\n",
    "$$ \\text{Var}(\\hat{\\mu})=\\text{SE}(\\hat{\\mu})^2 = \\frac{\\sigma^2}{n} $$\n",
    "\n",
    "Donde $\\sigma$ es la desviación estándar de cada una de las observaciones $y_i$ de $Y$. El error estándar nos dice la cantidad promedio que el estimado difiere del valor verdadero. Podemos ver en la fórmula que entre más observaciones tengamos el error se hace más pequeño. Las fórmulas para errores estándar de $\\hat{\\beta_0}$ y $\\hat{\\beta_1}$ son:\n",
    "\n",
    "$$ \\text{SE}(\\hat{\\beta_0})^2 = \\sigma^2 [\\frac{1}{n} + \\frac{\\bar{x}^2}{\\sum_{i=1}^n (x_i - \\bar{x})^2}]$$\n",
    "\n",
    "$$ \\text{SE}(\\hat{\\beta_1})^2 = \\frac{\\sigma^2}{\\sum_{i=1}^n (x_i - \\bar{x})^2}$$\n",
    "\n",
    "$$ \\sigma^2 = \\text{Var}(\\epsilon) = \\text{RSE}^2 = \\frac{\\text{RSS}}{n-p}$$"
   ]
  },
  {
   "cell_type": "markdown",
   "id": "661b6d7c-2274-462f-92ff-0e7be8ca742d",
   "metadata": {},
   "source": [
    "Para que estas fórmulas sean validas asumimos que los errores $\\epsilon_i$ tienen varianza común $\\sigma^2$ y que no están correlacionados.\n",
    "\n",
    "Calcula los errores estándar de los coeficientes"
   ]
  },
  {
   "cell_type": "code",
   "execution_count": 219,
   "id": "07843e5d-fa42-4266-9dda-7701a5700f07",
   "metadata": {},
   "outputs": [
    {
     "name": "stdout",
     "output_type": "stream",
     "text": [
      "2102.5305831313512\n",
      "200\n",
      "10.618841328946218\n"
     ]
    }
   ],
   "source": [
    "rss = np.sum((y1 - lr.predict(x1)) ** 2)\n",
    "print(rss)\n",
    "n1=len(y1)\n",
    "print(n1)\n",
    "var=rss/(n1-2)\n",
    "print(var)"
   ]
  },
  {
   "cell_type": "code",
   "execution_count": 221,
   "id": "c0f7beeb-3e18-419f-b0f1-29b47569ca11",
   "metadata": {},
   "outputs": [
    {
     "name": "stdout",
     "output_type": "stream",
     "text": [
      "Error estandar de beta 0:  0.4578429402734785\n"
     ]
    }
   ],
   "source": [
    "xmed=np.mean(x1)\n",
    "seb0=((var)*((1/n1)+(((xmed)**2)/(np.sum((x1-xmed)**2)))))**0.5\n",
    "print(\"Error estandar de beta 0: \",seb0)"
   ]
  },
  {
   "cell_type": "code",
   "execution_count": 223,
   "id": "b3a49811-31de-4ffb-bb1b-fab271b55b56",
   "metadata": {},
   "outputs": [
    {
     "name": "stdout",
     "output_type": "stream",
     "text": [
      "Error estandar de beta 1:  0.0026906071877968707\n"
     ]
    }
   ],
   "source": [
    "seb1=(var/(np.sum((x1-xmed)**2)))**0.5\n",
    "print(\"Error estandar de beta 1: \",seb1)"
   ]
  },
  {
   "cell_type": "markdown",
   "id": "9c2711ec-2380-4bce-ac68-007378e7b76c",
   "metadata": {},
   "source": [
    "Estos errores se pueden usar para calcular intervalos de confianza. Un intervalo de confianza del $95\\%$ se define como un rango de valores en el cuál se encuentra el desconocido valor verdadero con un $95\\%$ de probabilidad.\n",
    "\n",
    "Otra forma de verlo es que si tomamos muestras repetidas y construimos un intervalo de confianza para cada una, el $95\\%$ de los intervalos creados van a contener el valor verdadero. Para la regresión el intervalo de confianza del $95\\%$ toma la forma:\n",
    "\n",
    "$$ \\hat{\\beta_j} \\pm 2\\text{SE}(\\hat{\\beta_j})$$"
   ]
  },
  {
   "cell_type": "markdown",
   "id": "a71aed31-b058-4217-8d45-9686b9611511",
   "metadata": {},
   "source": [
    "Calcula los intervalos de confianza para los coeficientes estimados:"
   ]
  },
  {
   "cell_type": "code",
   "execution_count": 225,
   "id": "8b725487-4e48-471d-9c5a-547e7e176334",
   "metadata": {},
   "outputs": [
    {
     "name": "stdout",
     "output_type": "stream",
     "text": [
      "Intervalo Máximo de beta 0:  7.94827942967465\n"
     ]
    }
   ],
   "source": [
    "maxin0=beta0+seb0*2\n",
    "print(\"Intervalo Máximo de beta 0: \",maxin0)"
   ]
  },
  {
   "cell_type": "code",
   "execution_count": 227,
   "id": "b8173bfb-0766-4888-8c4b-2367cafde0c9",
   "metadata": {},
   "outputs": [
    {
     "name": "stdout",
     "output_type": "stream",
     "text": [
      "Intervalo Mínimo de beta 0:  6.116907668580736\n"
     ]
    }
   ],
   "source": [
    "min0=beta0-seb0*2\n",
    "print(\"Intervalo Mínimo de beta 0: \",min0)"
   ]
  },
  {
   "cell_type": "code",
   "execution_count": 229,
   "id": "e2681447-fa5c-4057-90c2-a32faa1d7277",
   "metadata": {},
   "outputs": [
    {
     "name": "stdout",
     "output_type": "stream",
     "text": [
      "Intervalo Máximo de beta1:  [0.05291785]\n"
     ]
    }
   ],
   "source": [
    "maxin1=beta1+seb1*2\n",
    "print(\"Intervalo Máximo de beta1: \",maxin1)"
   ]
  },
  {
   "cell_type": "code",
   "execution_count": 231,
   "id": "e91d9e85-0fd3-4a95-936c-52eee22fb8e7",
   "metadata": {},
   "outputs": [
    {
     "name": "stdout",
     "output_type": "stream",
     "text": [
      "Intervalo Mínimo de beta1:  [0.04215543]\n"
     ]
    }
   ],
   "source": [
    "min1=beta1-seb1*2\n",
    "print(\"Intervalo Mínimo de beta1: \",min1)"
   ]
  },
  {
   "cell_type": "markdown",
   "id": "da3b3100-fb87-42de-9e74-75c72464bb7b",
   "metadata": {},
   "source": [
    "Los errores estándar también se usan para realizar pruebas de hipótesis. La prueba de hipótesis más común es probar la hipótesis nula de:\n",
    "\n",
    "$$ H_0: \\text{No hay relación entre } X \\text{ y } Y \\ \\ \\ \\ (\\beta_1=0)$$"
   ]
  },
  {
   "cell_type": "markdown",
   "id": "a1ef288e-55fe-45fb-bb86-4bef282b5947",
   "metadata": {},
   "source": [
    "contra la hipótesis alternativa:\n",
    "$$ H_0: \\text{Hay alguna relación entre } X \\text{ y } Y \\ \\ \\ (\\beta_1 \\neq 0)$$"
   ]
  },
  {
   "cell_type": "markdown",
   "id": "eaf0c27a-4a67-450c-b2ce-a65958938c25",
   "metadata": {},
   "source": [
    "Explica con tus palabras el significado de la hipótesis nula y la hipótesis alternativa."
   ]
  },
  {
   "cell_type": "markdown",
   "id": "41f7cb88-88a5-462f-84ec-6019911ebb64",
   "metadata": {},
   "source": [
    "La hipótesis nula es nuestra principal hipótesis, es decir, la que es verdad. Mientras que, la hipotesis alterna es aquella que buscamos comprobar en dado caso de que tengamos que rechazar nuestra hipótesis nula. En este caso, la hipótesis nula nos dice que no hay relación entre nuestras variables analizadas, si y solo si, beta 1 es igual a 0. Mientras que, la hipotesis alterna nos dice que si exite una relación entre las variables cuando beta es distinto de 0."
   ]
  },
  {
   "cell_type": "markdown",
   "id": "cc6404ea-89ae-45f0-9935-67dbd53b78c6",
   "metadata": {},
   "source": [
    "Para probal la hipótesis nula debemos determinar si nuestro estimado $\\hat{\\beta_1}$ de $\\beta_1$ está lo suficientemente alejado de cero para que podamos decir con confianza que este valor no es cero. \n",
    "\n",
    "¿Qué tan lejos? Depende de qué tanta confianza tengamos en el estimado encontrado. Si nuestro error estándar es pequeño y nuestro estimado está alejado de cero podríamos decir que hay muy poca probabilidad de que el valor verdadero sea 0. En cambio, si nuestro error estándar es grande y nuestro estimado está muy cerca de cero, entonces podrías ser que el valor verdadero sea cero y que no haya relación entre las variables."
   ]
  },
  {
   "cell_type": "markdown",
   "id": "96161b14-6a16-41ea-aec8-0394f729447d",
   "metadata": {},
   "source": [
    "Se calcula un *estadístico t* dado por\n",
    "$$ t = \\frac{\\hat{\\beta_j} - \\mu}{\\text{SE}(\\hat{\\beta_j})} $$"
   ]
  },
  {
   "cell_type": "markdown",
   "id": "4f04296d-854b-4fcb-9c79-6b23b516f2f3",
   "metadata": {},
   "source": [
    "donde $\\mu$ es el valor contra el que queremos probar.\n",
    "\n",
    "Calcula el estadístico t para tus coeficientes estimados, usando como referencia la prueba de hipótesis."
   ]
  },
  {
   "cell_type": "code",
   "execution_count": 233,
   "id": "68f15e0c-6c64-4ff5-a03c-8d72b639db7f",
   "metadata": {},
   "outputs": [
    {
     "name": "stdout",
     "output_type": "stream",
     "text": [
      "t_tv_de_btea0:  15.360275174117543\n"
     ]
    }
   ],
   "source": [
    "t1=beta0/seb0\n",
    "print(\"t_tv_de_btea0: \",t1)"
   ]
  },
  {
   "cell_type": "code",
   "execution_count": 235,
   "id": "3b101c1c-0570-4b3b-bb87-eb7b53e6ec51",
   "metadata": {},
   "outputs": [
    {
     "name": "stdout",
     "output_type": "stream",
     "text": [
      "t_tv_de_btea1:  [17.6676256]\n"
     ]
    }
   ],
   "source": [
    "t2=beta1/seb1\n",
    "print(\"t_tv_de_btea1: \",t2)"
   ]
  },
  {
   "cell_type": "markdown",
   "id": "7737b123-f4c5-403c-92f2-4800c79107d9",
   "metadata": {},
   "source": [
    "La distribución t tiene forma de campana y se parece bastante a la distribución normal cuando $n > 30$. Ya sólo es cuestión de calcular la probabilidad de observar cualquier número tal que su valor absoluto sea igual o mayor que el valor absoluto del estadístico t calculado. En otras palabras:\n",
    "$$ P(|x| \\geq |t|) $$"
   ]
  },
  {
   "cell_type": "markdown",
   "id": "6bb2ccf1-b4b1-4c0c-a15b-d4fdd2f4552a",
   "metadata": {},
   "source": [
    "A esta probabilidad la llamamos *p-value*. Un *p-value* pequeño indica que es poco probable que exista por puro azar una relación significativa entre predictor y respuesta, en caso de que no haya una asociación real entre predictor y respuesta. En otras palabras, el *p-value* te dice la probabilidad de que parezca que hay relación cuando no la hay.\n",
    "\n",
    "Si el *p-value* es pequeño, inferimos que sí hay una asociación entre el predictor y la respuesta, y **rechazamos la hipótesis nula**.\n",
    "  "
   ]
  },
  {
   "cell_type": "markdown",
   "id": "c7f17065-a71d-4322-8782-3e805df65d29",
   "metadata": {},
   "source": [
    "¿Qué tan pequeño? Depende de la aplicación. Un valor muy común es del $5\\%$.\n",
    "\n",
    "Utiliza el siguiente código para calcular el *p-value* para tus coeficientes\n",
    "\n",
    "`from scipy import stats`\n",
    "\n",
    "`p_bj = 2*(1 - stats.t.cdf(np.abs(t_bj), n-p))`"
   ]
  },
  {
   "cell_type": "code",
   "execution_count": 237,
   "id": "7a542d04-f9cb-4ea2-9af1-ca79d1539860",
   "metadata": {},
   "outputs": [
    {
     "name": "stdout",
     "output_type": "stream",
     "text": [
      "p-value con más precisión:  [0.]\n"
     ]
    }
   ],
   "source": [
    "\n",
    "from scipy import stats\n",
    "p_tv1=2*(1-stats.t.cdf(np.abs(t2),n1-2))\n",
    "print(\"p-value con más precisión: \", p_tv1)"
   ]
  },
  {
   "cell_type": "markdown",
   "id": "2be9ad17-db40-405e-b88a-d0af8a05aacf",
   "metadata": {},
   "source": [
    "¿Se rechaza la hipótesis nula? ¿Qué significa?"
   ]
  },
  {
   "cell_type": "markdown",
   "id": "261f861e-f191-47f8-9510-7444ab416756",
   "metadata": {},
   "source": [
    "En este caso como nuestra Beta 1 es diferente de 0, por muy poco que sea la diferencia, rechazamos la hipótesis nula. Esto, también lo podemos comprobar con el p-value, el cual es 0, pues si este es más pequeño que 0.05 (en este caso) podemos inferir que si existe una relación entre las ventas y el presupuesto en la TV. "
   ]
  },
  {
   "cell_type": "markdown",
   "id": "3a994d1a-6187-491c-a518-7971cebe3c0a",
   "metadata": {},
   "source": [
    "Realiza otras dos regresiones. Ya tienes hecha la regresión de ventas dado el gasto en publicidad de TV. Realiza la regresión para gastos en radio y gastos en periódico. Organiza las respuestas para que debajo de esta celda se tenga:\n",
    "- Título de regresión\n",
    "- Coeficientes estimados\n",
    "- Errores estándar de los coeficientes\n",
    "- Intervalos de confianza\n",
    "- Estadísticos t\n",
    "- p-values\n",
    "- Observaciones"
   ]
  },
  {
   "cell_type": "markdown",
   "id": "aa7e0748-4578-43bf-86bf-81ebbbddfb9b",
   "metadata": {},
   "source": [
    "### Regresión de Radio"
   ]
  },
  {
   "cell_type": "markdown",
   "id": "8e56a56e-2fca-44a2-8314-07ddcd806ca2",
   "metadata": {},
   "source": [
    "Coeficientes esperados"
   ]
  },
  {
   "cell_type": "code",
   "execution_count": 239,
   "id": "0d946946-ce77-4994-be73-aaca9c5d98ea",
   "metadata": {},
   "outputs": [],
   "source": [
    "x2 = df.radio.values.reshape([-1,1])\n",
    "y1= df.sales"
   ]
  },
  {
   "cell_type": "code",
   "execution_count": 241,
   "id": "cbfaed5f-f044-43e4-90b7-29144d8b8f0f",
   "metadata": {},
   "outputs": [
    {
     "name": "stdout",
     "output_type": "stream",
     "text": [
      "Beta_radio_0:  9.311638095158283\n"
     ]
    }
   ],
   "source": [
    "lr=LinearRegression()\n",
    "lr.fit(x2,y1)\n",
    "beta_radio0=lr.intercept_\n",
    "print(\"Beta_radio_0: \",beta_radio0)"
   ]
  },
  {
   "cell_type": "code",
   "execution_count": 243,
   "id": "2bd48bf6-4452-41a4-b065-5ce89e7219bb",
   "metadata": {},
   "outputs": [
    {
     "name": "stdout",
     "output_type": "stream",
     "text": [
      "Beta_radio_1:  [0.20249578]\n"
     ]
    }
   ],
   "source": [
    "beta_radio1= lr.coef_\n",
    "print(\"Beta_radio_1: \",beta_radio1)"
   ]
  },
  {
   "cell_type": "markdown",
   "id": "1e3f1f9f-78a6-41fb-9e7f-aca018b3cc68",
   "metadata": {},
   "source": [
    "Errores Estándar de los coeficientes"
   ]
  },
  {
   "cell_type": "code",
   "execution_count": 246,
   "id": "e3a0d6e5-d4eb-4a4c-9dde-b10ef4e19b8d",
   "metadata": {},
   "outputs": [
    {
     "name": "stdout",
     "output_type": "stream",
     "text": [
      "Rss:  3618.479549025088\n",
      "Var^2:  18.275149237500443\n"
     ]
    }
   ],
   "source": [
    "rss2= np.sum((y1 - lr.predict(x2)) ** 2)\n",
    "print(\"Rss: \",rss2)\n",
    "n1=len(y1)\n",
    "var2=rss2/(n1-2)\n",
    "print(\"Var^2: \",var2)"
   ]
  },
  {
   "cell_type": "code",
   "execution_count": 248,
   "id": "ddb34b5d-6e91-4dcb-bcbf-8db23d6929c7",
   "metadata": {},
   "outputs": [
    {
     "name": "stdout",
     "output_type": "stream",
     "text": [
      "Error estándar de Beta 0:  0.5629004962718711\n"
     ]
    }
   ],
   "source": [
    "xmed2=np.mean(x2)\n",
    "se_radio0=((var2)*((1/n1)+(((xmed2)**2)/(np.sum((x2-xmed2)**2)))))**0.5\n",
    "print(\"Error estándar de Beta 0: \",se_radio0)"
   ]
  },
  {
   "cell_type": "code",
   "execution_count": 250,
   "id": "494ea444-f01a-48af-87b0-df1f2811931a",
   "metadata": {},
   "outputs": [
    {
     "name": "stdout",
     "output_type": "stream",
     "text": [
      "Error estándar de Beta1:  0.020411306360090635\n"
     ]
    }
   ],
   "source": [
    "se_radio1=(var2/(np.sum((x2-xmed2)**2)))**0.5\n",
    "print(\"Error estándar de Beta1: \",se_radio1)"
   ]
  },
  {
   "cell_type": "markdown",
   "id": "035921d0-56a9-4506-be2d-094ee0bdfe76",
   "metadata": {},
   "source": [
    "Intervalos de Confianza"
   ]
  },
  {
   "cell_type": "code",
   "execution_count": 253,
   "id": "04e5cad6-dce2-4260-b967-25a7c02a5ef5",
   "metadata": {},
   "outputs": [
    {
     "name": "stdout",
     "output_type": "stream",
     "text": [
      "Máximo del Intervalo de Beta 0:  10.437439087702025\n"
     ]
    }
   ],
   "source": [
    "#Intervalo Máximo de beta 0\n",
    "maxinr0=beta_radio0+se_radio0*2\n",
    "print(\"Máximo del Intervalo de Beta 0: \",maxinr0)"
   ]
  },
  {
   "cell_type": "code",
   "execution_count": 255,
   "id": "5917d0d2-f807-481d-9be6-dd048383ce1d",
   "metadata": {},
   "outputs": [
    {
     "name": "stdout",
     "output_type": "stream",
     "text": [
      "Mínimo del Intervalo de Beta 0:  8.185837102614542\n"
     ]
    }
   ],
   "source": [
    "#Intervalo Mín de beta 0\n",
    "mininr0=beta_radio0-se_radio0*2\n",
    "print(\"Mínimo del Intervalo de Beta 0: \",mininr0)"
   ]
  },
  {
   "cell_type": "code",
   "execution_count": 257,
   "id": "bba92dfb-647e-4241-9e1a-17ef2cbd050f",
   "metadata": {},
   "outputs": [
    {
     "name": "stdout",
     "output_type": "stream",
     "text": [
      "Máximo del Intervalo de Beta 1:  [0.2433184]\n"
     ]
    }
   ],
   "source": [
    "#Intervalo Máximo de beta 1\n",
    "maxinr1=beta_radio1+se_radio1*2\n",
    "print(\"Máximo del Intervalo de Beta 1: \",maxinr1)"
   ]
  },
  {
   "cell_type": "code",
   "execution_count": 259,
   "id": "78cf08b9-13c1-42ca-9f26-af276d557227",
   "metadata": {},
   "outputs": [
    {
     "name": "stdout",
     "output_type": "stream",
     "text": [
      "Mínimo del Intervalo de Beta 1:  [0.16167317]\n"
     ]
    }
   ],
   "source": [
    "#Intervalo Mínimo de beta 1\n",
    "mininr1=beta_radio1-se_radio1*2\n",
    "print(\"Mínimo del Intervalo de Beta 1: \",mininr1)"
   ]
  },
  {
   "cell_type": "markdown",
   "id": "23291085-213f-4b6c-bc32-fd2e103dc408",
   "metadata": {},
   "source": [
    "Estadísticos t"
   ]
  },
  {
   "cell_type": "code",
   "execution_count": 262,
   "id": "cd2fbd62-44c9-4d77-b5d1-4875c0a555da",
   "metadata": {},
   "outputs": [
    {
     "name": "stdout",
     "output_type": "stream",
     "text": [
      "Valor t de beta 0:  16.542245311258217\n"
     ]
    }
   ],
   "source": [
    "t_radio0=beta_radio0/se_radio0\n",
    "print(\"Valor t de beta 0: \",t_radio0)"
   ]
  },
  {
   "cell_type": "code",
   "execution_count": 264,
   "id": "6c562124-7e9e-400f-9963-150224aafb6d",
   "metadata": {},
   "outputs": [
    {
     "name": "stdout",
     "output_type": "stream",
     "text": [
      "Valor t de beta 1:  [9.92076547]\n"
     ]
    }
   ],
   "source": [
    "t_radio1=beta_radio1/se_radio1\n",
    "print(\"Valor t de beta 1: \",t_radio1)"
   ]
  },
  {
   "cell_type": "markdown",
   "id": "3fd876b1-8f9a-4bc9-8a95-250d322358b2",
   "metadata": {},
   "source": [
    "p-values"
   ]
  },
  {
   "cell_type": "code",
   "execution_count": 269,
   "id": "82401063-f7f0-40ad-84b3-6bbc6441e5d7",
   "metadata": {},
   "outputs": [
    {
     "name": "stdout",
     "output_type": "stream",
     "text": [
      "p-value beta1:  [0.]\n"
     ]
    }
   ],
   "source": [
    "from scipy import stats\n",
    "p_radio1=2*(1-stats.t.cdf(np.abs(t_radio1),n1-2))\n",
    "print(\"p-value beta1: \", p_radio1)"
   ]
  },
  {
   "cell_type": "markdown",
   "id": "768bf6b6-e724-4546-b271-693fd4bfadff",
   "metadata": {},
   "source": [
    "Observaciones"
   ]
  },
  {
   "cell_type": "markdown",
   "id": "cfeacc7d-cbd9-4d78-8b31-a4c51229b2bf",
   "metadata": {},
   "source": [
    "Gracias a los resultados obtenidos, como el beta 1, los intervalos de confianza que no incluyen el 0, un p-value menor a 0.05. Podemos decir que, la inversión en la radio sí muestra una relación significativa con las ventas, en este caso estaríamos rechazando nuestra hipótesis nula, y aceptando la alterna, pues beta 1 es distinto de 0 y tiene un p-value menor a 0.05"
   ]
  },
  {
   "cell_type": "markdown",
   "id": "c1454f6a-075d-4f1d-ba24-3f99de36d82c",
   "metadata": {},
   "source": [
    "### Regresión de Periódicos"
   ]
  },
  {
   "cell_type": "markdown",
   "id": "11c288d3-ceb2-4338-a970-5cd7b5289d7e",
   "metadata": {},
   "source": [
    "Coeficientes esperados"
   ]
  },
  {
   "cell_type": "code",
   "execution_count": 177,
   "id": "4cfbf2b5-b834-42a7-b769-5be664046d70",
   "metadata": {},
   "outputs": [],
   "source": [
    "x3 = df.newspaper.values.reshape([-1,1])\n",
    "y1= df.sales"
   ]
  },
  {
   "cell_type": "code",
   "execution_count": 179,
   "id": "312a6e72-1785-43cd-b36a-4a66ce92ecb8",
   "metadata": {},
   "outputs": [
    {
     "name": "stdout",
     "output_type": "stream",
     "text": [
      "Beta_periódico_0:  12.35140706927816\n"
     ]
    }
   ],
   "source": [
    "lr=LinearRegression()\n",
    "lr.fit(x3,y1)\n",
    "beta_period0=lr.intercept_\n",
    "print(\"Beta_periódico_0: \",beta_period0)"
   ]
  },
  {
   "cell_type": "code",
   "execution_count": 181,
   "id": "1d1bcc2b-2ae3-49bd-bb7d-4337f588c6b6",
   "metadata": {},
   "outputs": [
    {
     "name": "stdout",
     "output_type": "stream",
     "text": [
      "Beta_periódico_1:  [0.0546931]\n"
     ]
    }
   ],
   "source": [
    "beta_period1=lr.coef_\n",
    "print(\"Beta_periódico_1: \",beta_period1)"
   ]
  },
  {
   "cell_type": "markdown",
   "id": "328585df-8f79-496a-9120-1ce318a78e24",
   "metadata": {},
   "source": [
    "Error Estándar de Coeficientes"
   ]
  },
  {
   "cell_type": "code",
   "execution_count": 184,
   "id": "966824f2-e9b0-4134-85da-335f118b3252",
   "metadata": {},
   "outputs": [
    {
     "name": "stdout",
     "output_type": "stream",
     "text": [
      "Rss:  5134.804544111939\n",
      "Var^2:  25.933356283393632\n"
     ]
    }
   ],
   "source": [
    "rss3= np.sum((y1 - lr.predict(x3)) ** 2)\n",
    "print(\"Rss: \",rss3)\n",
    "n1=len(y1)\n",
    "var3=rss3/(n1-2)\n",
    "print(\"Var^2: \",var3)"
   ]
  },
  {
   "cell_type": "code",
   "execution_count": 186,
   "id": "00e9dd9c-afe7-4b30-8419-231b28286bef",
   "metadata": {},
   "outputs": [
    {
     "name": "stdout",
     "output_type": "stream",
     "text": [
      "Error Estándar de Beta 0:  0.6214201876094345\n"
     ]
    }
   ],
   "source": [
    "xmed3=np.mean(x3)\n",
    "se_period0=((var3)*((1/n1)+(((xmed3)**2)/(np.sum((x3-xmed3)**2)))))**0.5\n",
    "print(\"Error Estándar de Beta 0: \",se_period0)"
   ]
  },
  {
   "cell_type": "code",
   "execution_count": 188,
   "id": "5c3a9758-8ec8-41ca-9f16-6e2f75b678bc",
   "metadata": {},
   "outputs": [
    {
     "name": "stdout",
     "output_type": "stream",
     "text": [
      "Error estándar de Beta1:  0.016575721876358165\n"
     ]
    }
   ],
   "source": [
    "se_period1=(var3/(np.sum((x3-xmed3)**2)))**0.5\n",
    "print(\"Error estándar de Beta1: \",se_period1)"
   ]
  },
  {
   "cell_type": "markdown",
   "id": "ffb11ae9-e708-4415-9ec4-58cbe8cb188d",
   "metadata": {},
   "source": [
    "Intervalos de Confianza"
   ]
  },
  {
   "cell_type": "code",
   "execution_count": 191,
   "id": "2cb5a4a8-cba8-43cf-a88c-cd615910a2bc",
   "metadata": {},
   "outputs": [
    {
     "name": "stdout",
     "output_type": "stream",
     "text": [
      "Máximo del Intervalo de Beta 0:  13.594247444497029\n"
     ]
    }
   ],
   "source": [
    "#Intervalo Máximo de beta 0\n",
    "maxinp0=beta_period0+se_period0*2\n",
    "print(\"Máximo del Intervalo de Beta 0: \",maxinp0)"
   ]
  },
  {
   "cell_type": "code",
   "execution_count": 193,
   "id": "5e86c2de-5a74-4764-9817-0a38854267d9",
   "metadata": {},
   "outputs": [
    {
     "name": "stdout",
     "output_type": "stream",
     "text": [
      "Mínimo del Intervalo de Beta 0:  11.108566694059292\n"
     ]
    }
   ],
   "source": [
    "#Intervalo Mínimo de beta 0\n",
    "mininp0=beta_period0-se_period0*2\n",
    "print(\"Mínimo del Intervalo de Beta 0: \",mininp0)"
   ]
  },
  {
   "cell_type": "code",
   "execution_count": 195,
   "id": "3bee1c50-3b7b-454e-affe-e4cbc647d1b3",
   "metadata": {},
   "outputs": [
    {
     "name": "stdout",
     "output_type": "stream",
     "text": [
      "Máximo del Intervalo de Beta 1:  [0.08784454]\n"
     ]
    }
   ],
   "source": [
    "#Intervalo Máximo de beta 1\n",
    "maxinp1=beta_period1+se_period1*2\n",
    "print(\"Máximo del Intervalo de Beta 1: \",maxinp1)"
   ]
  },
  {
   "cell_type": "code",
   "execution_count": 197,
   "id": "8482bd22-7318-4f6f-8f99-b99850908876",
   "metadata": {},
   "outputs": [
    {
     "name": "stdout",
     "output_type": "stream",
     "text": [
      "Mínimo del Intervalo de Beta 1:  [0.02154165]\n"
     ]
    }
   ],
   "source": [
    "#Intervalo Mínimo de beta 1\n",
    "mininp1=beta_period1-se_period1*2\n",
    "print(\"Mínimo del Intervalo de Beta 1: \",mininp1)"
   ]
  },
  {
   "cell_type": "markdown",
   "id": "20c27010-e7b3-430c-9552-d8fdee374e93",
   "metadata": {},
   "source": [
    "Estadísticos t"
   ]
  },
  {
   "cell_type": "code",
   "execution_count": 200,
   "id": "a1158009-e423-439f-9734-124a6563ee5b",
   "metadata": {},
   "outputs": [
    {
     "name": "stdout",
     "output_type": "stream",
     "text": [
      "Valor t de beta 0:  19.876095620248947\n"
     ]
    }
   ],
   "source": [
    "t_period0=beta_period0/se_period0\n",
    "print(\"Valor t de beta 0: \",t_period0)"
   ]
  },
  {
   "cell_type": "code",
   "execution_count": 202,
   "id": "5644187e-2e93-4ff6-b6e5-eeefbf75f561",
   "metadata": {},
   "outputs": [
    {
     "name": "stdout",
     "output_type": "stream",
     "text": [
      "Valor t de beta 1:  [3.29959074]\n"
     ]
    }
   ],
   "source": [
    "t_period1=beta_period1/se_period1\n",
    "print(\"Valor t de beta 1: \",t_period1)"
   ]
  },
  {
   "cell_type": "markdown",
   "id": "1ccd4764-8b55-40ce-9e78-3880205fa91b",
   "metadata": {},
   "source": [
    "p-value"
   ]
  },
  {
   "cell_type": "code",
   "execution_count": 207,
   "id": "f1a54e1f-a49b-400a-9411-e38626eeb780",
   "metadata": {},
   "outputs": [
    {
     "name": "stdout",
     "output_type": "stream",
     "text": [
      "p-value beta1:  [0.0011482]\n"
     ]
    }
   ],
   "source": [
    "from scipy import stats\n",
    "p_period1=2*(1-stats.t.cdf(np.abs(t_period1),n1-2))\n",
    "print(\"p-value beta1: \", p_period1)"
   ]
  },
  {
   "cell_type": "markdown",
   "id": "b3c665d4-bc0f-417c-b8d0-00601a361741",
   "metadata": {},
   "source": [
    "Observaciones"
   ]
  },
  {
   "cell_type": "markdown",
   "id": "fd77612b-4273-45c9-94b9-8aadb6658aa8",
   "metadata": {},
   "source": [
    "Analizando nuestra regresión entre las ventas y el períodico, podemos observar que tenemos un beta 1 distinto de 0, y un p-value menor a 0.05, sin embargo, a diferencia de nuestras regresiones anteriores este no nos dio 0, mostrandonos que tiene un coportamiento levemente distinto al resto de las variables. Pero aun así, podemo decir que si hay una relación entre las ventas y la inversión en el periódico, pues con beta 1 diferente de 0 y p-value menor a 0.05, estaríamos rechazando nuestra hipótesis nula y aceptando la alterna."
   ]
  },
  {
   "cell_type": "markdown",
   "id": "556988ae-3656-428d-817b-76f9e1534f46",
   "metadata": {},
   "source": [
    "## Regresión lineal múltiple"
   ]
  },
  {
   "cell_type": "markdown",
   "id": "943698d8-7f84-4245-8be3-e4c8f34be5da",
   "metadata": {},
   "source": [
    "En lugar de hacer una regresión para cada factor independiente, quizás se puede extender el modelo para que tenga varios factores dentro:\n",
    "\n",
    "$$ Y = \\beta_0 + \\beta_1 X_1 + \\beta_2 X_2 + ... + \\beta_p X_p + \\epsilon $$\n",
    "\n",
    "Para nuestro ejemplo de publicidad:\n",
    "\n",
    "$$ \\text{sales} = \\beta_0 + \\beta_1 (\\text{TV}) + \\beta_2 (\\text{radio}) + \\beta_3 (\\text{newspaper}) + \\epsilon $$"
   ]
  },
  {
   "cell_type": "markdown",
   "id": "df8cd89a-0c25-4e1d-9213-292807e17ccf",
   "metadata": {},
   "source": [
    "Utiliza la librería `statsmodels` para realizar la regresión. Por defecto la librería statsmodels no toma en cuenta el intercepto ($\\beta_0$), por lo que se tendrá que agregar una columna de unos de tamaño *n* a la matriz X.\n",
    "\n",
    "`import statsmodels.api as sm`\n",
    "\n",
    "`ols = sm.OLS(Y, X)`\n",
    "\n",
    "`results = ols.fit()`\n",
    "\n",
    "`results.summary()`"
   ]
  },
  {
   "cell_type": "code",
   "execution_count": 275,
   "id": "022522eb-2c18-435e-b51b-4ed5a5c54669",
   "metadata": {},
   "outputs": [
    {
     "data": {
      "text/html": [
       "<table class=\"simpletable\">\n",
       "<caption>OLS Regression Results</caption>\n",
       "<tr>\n",
       "  <th>Dep. Variable:</th>          <td>sales</td>      <th>  R-squared:         </th> <td>   0.897</td>\n",
       "</tr>\n",
       "<tr>\n",
       "  <th>Model:</th>                   <td>OLS</td>       <th>  Adj. R-squared:    </th> <td>   0.896</td>\n",
       "</tr>\n",
       "<tr>\n",
       "  <th>Method:</th>             <td>Least Squares</td>  <th>  F-statistic:       </th> <td>   570.3</td>\n",
       "</tr>\n",
       "<tr>\n",
       "  <th>Date:</th>             <td>Thu, 28 Aug 2025</td> <th>  Prob (F-statistic):</th> <td>1.58e-96</td>\n",
       "</tr>\n",
       "<tr>\n",
       "  <th>Time:</th>                 <td>16:59:19</td>     <th>  Log-Likelihood:    </th> <td> -386.18</td>\n",
       "</tr>\n",
       "<tr>\n",
       "  <th>No. Observations:</th>      <td>   200</td>      <th>  AIC:               </th> <td>   780.4</td>\n",
       "</tr>\n",
       "<tr>\n",
       "  <th>Df Residuals:</th>          <td>   196</td>      <th>  BIC:               </th> <td>   793.6</td>\n",
       "</tr>\n",
       "<tr>\n",
       "  <th>Df Model:</th>              <td>     3</td>      <th>                     </th>     <td> </td>   \n",
       "</tr>\n",
       "<tr>\n",
       "  <th>Covariance Type:</th>      <td>nonrobust</td>    <th>                     </th>     <td> </td>   \n",
       "</tr>\n",
       "</table>\n",
       "<table class=\"simpletable\">\n",
       "<tr>\n",
       "    <td></td>       <th>coef</th>     <th>std err</th>      <th>t</th>      <th>P>|t|</th>  <th>[0.025</th>    <th>0.975]</th>  \n",
       "</tr>\n",
       "<tr>\n",
       "  <th>const</th> <td>    2.9389</td> <td>    0.312</td> <td>    9.422</td> <td> 0.000</td> <td>    2.324</td> <td>    3.554</td>\n",
       "</tr>\n",
       "<tr>\n",
       "  <th>x1</th>    <td>    0.0458</td> <td>    0.001</td> <td>   32.809</td> <td> 0.000</td> <td>    0.043</td> <td>    0.049</td>\n",
       "</tr>\n",
       "<tr>\n",
       "  <th>x2</th>    <td>    0.1885</td> <td>    0.009</td> <td>   21.893</td> <td> 0.000</td> <td>    0.172</td> <td>    0.206</td>\n",
       "</tr>\n",
       "<tr>\n",
       "  <th>x3</th>    <td>   -0.0010</td> <td>    0.006</td> <td>   -0.177</td> <td> 0.860</td> <td>   -0.013</td> <td>    0.011</td>\n",
       "</tr>\n",
       "</table>\n",
       "<table class=\"simpletable\">\n",
       "<tr>\n",
       "  <th>Omnibus:</th>       <td>60.414</td> <th>  Durbin-Watson:     </th> <td>   2.084</td>\n",
       "</tr>\n",
       "<tr>\n",
       "  <th>Prob(Omnibus):</th> <td> 0.000</td> <th>  Jarque-Bera (JB):  </th> <td> 151.241</td>\n",
       "</tr>\n",
       "<tr>\n",
       "  <th>Skew:</th>          <td>-1.327</td> <th>  Prob(JB):          </th> <td>1.44e-33</td>\n",
       "</tr>\n",
       "<tr>\n",
       "  <th>Kurtosis:</th>      <td> 6.332</td> <th>  Cond. No.          </th> <td>    454.</td>\n",
       "</tr>\n",
       "</table><br/><br/>Notes:<br/>[1] Standard Errors assume that the covariance matrix of the errors is correctly specified."
      ],
      "text/latex": [
       "\\begin{center}\n",
       "\\begin{tabular}{lclc}\n",
       "\\toprule\n",
       "\\textbf{Dep. Variable:}    &      sales       & \\textbf{  R-squared:         } &     0.897   \\\\\n",
       "\\textbf{Model:}            &       OLS        & \\textbf{  Adj. R-squared:    } &     0.896   \\\\\n",
       "\\textbf{Method:}           &  Least Squares   & \\textbf{  F-statistic:       } &     570.3   \\\\\n",
       "\\textbf{Date:}             & Thu, 28 Aug 2025 & \\textbf{  Prob (F-statistic):} &  1.58e-96   \\\\\n",
       "\\textbf{Time:}             &     16:59:19     & \\textbf{  Log-Likelihood:    } &   -386.18   \\\\\n",
       "\\textbf{No. Observations:} &         200      & \\textbf{  AIC:               } &     780.4   \\\\\n",
       "\\textbf{Df Residuals:}     &         196      & \\textbf{  BIC:               } &     793.6   \\\\\n",
       "\\textbf{Df Model:}         &           3      & \\textbf{                     } &             \\\\\n",
       "\\textbf{Covariance Type:}  &    nonrobust     & \\textbf{                     } &             \\\\\n",
       "\\bottomrule\n",
       "\\end{tabular}\n",
       "\\begin{tabular}{lcccccc}\n",
       "               & \\textbf{coef} & \\textbf{std err} & \\textbf{t} & \\textbf{P$> |$t$|$} & \\textbf{[0.025} & \\textbf{0.975]}  \\\\\n",
       "\\midrule\n",
       "\\textbf{const} &       2.9389  &        0.312     &     9.422  &         0.000        &        2.324    &        3.554     \\\\\n",
       "\\textbf{x1}    &       0.0458  &        0.001     &    32.809  &         0.000        &        0.043    &        0.049     \\\\\n",
       "\\textbf{x2}    &       0.1885  &        0.009     &    21.893  &         0.000        &        0.172    &        0.206     \\\\\n",
       "\\textbf{x3}    &      -0.0010  &        0.006     &    -0.177  &         0.860        &       -0.013    &        0.011     \\\\\n",
       "\\bottomrule\n",
       "\\end{tabular}\n",
       "\\begin{tabular}{lclc}\n",
       "\\textbf{Omnibus:}       & 60.414 & \\textbf{  Durbin-Watson:     } &    2.084  \\\\\n",
       "\\textbf{Prob(Omnibus):} &  0.000 & \\textbf{  Jarque-Bera (JB):  } &  151.241  \\\\\n",
       "\\textbf{Skew:}          & -1.327 & \\textbf{  Prob(JB):          } & 1.44e-33  \\\\\n",
       "\\textbf{Kurtosis:}      &  6.332 & \\textbf{  Cond. No.          } &     454.  \\\\\n",
       "\\bottomrule\n",
       "\\end{tabular}\n",
       "%\\caption{OLS Regression Results}\n",
       "\\end{center}\n",
       "\n",
       "Notes: \\newline\n",
       " [1] Standard Errors assume that the covariance matrix of the errors is correctly specified."
      ],
      "text/plain": [
       "<class 'statsmodels.iolib.summary.Summary'>\n",
       "\"\"\"\n",
       "                            OLS Regression Results                            \n",
       "==============================================================================\n",
       "Dep. Variable:                  sales   R-squared:                       0.897\n",
       "Model:                            OLS   Adj. R-squared:                  0.896\n",
       "Method:                 Least Squares   F-statistic:                     570.3\n",
       "Date:                Thu, 28 Aug 2025   Prob (F-statistic):           1.58e-96\n",
       "Time:                        16:59:19   Log-Likelihood:                -386.18\n",
       "No. Observations:                 200   AIC:                             780.4\n",
       "Df Residuals:                     196   BIC:                             793.6\n",
       "Df Model:                           3                                         \n",
       "Covariance Type:            nonrobust                                         \n",
       "==============================================================================\n",
       "                 coef    std err          t      P>|t|      [0.025      0.975]\n",
       "------------------------------------------------------------------------------\n",
       "const          2.9389      0.312      9.422      0.000       2.324       3.554\n",
       "x1             0.0458      0.001     32.809      0.000       0.043       0.049\n",
       "x2             0.1885      0.009     21.893      0.000       0.172       0.206\n",
       "x3            -0.0010      0.006     -0.177      0.860      -0.013       0.011\n",
       "==============================================================================\n",
       "Omnibus:                       60.414   Durbin-Watson:                   2.084\n",
       "Prob(Omnibus):                  0.000   Jarque-Bera (JB):              151.241\n",
       "Skew:                          -1.327   Prob(JB):                     1.44e-33\n",
       "Kurtosis:                       6.332   Cond. No.                         454.\n",
       "==============================================================================\n",
       "\n",
       "Notes:\n",
       "[1] Standard Errors assume that the covariance matrix of the errors is correctly specified.\n",
       "\"\"\""
      ]
     },
     "execution_count": 275,
     "metadata": {},
     "output_type": "execute_result"
    }
   ],
   "source": [
    "import statsmodels.api as sm\n",
    "\n",
    "unos=np.ones([n1,1])\n",
    "X=np.hstack([unos,x1,x2,x3])\n",
    "ols=sm.OLS(y1,X)\n",
    "resultados=ols.fit()\n",
    "resultados.summary()"
   ]
  },
  {
   "cell_type": "markdown",
   "id": "df0f403f-b246-4706-a4c6-5f17be224048",
   "metadata": {},
   "source": [
    "¿Qué diferencias puedes observar entre los *p-values* de una regresión múltiple y los encontrados en las regresiones simples? ¿Por qué crees que existen estas diferencias?"
   ]
  },
  {
   "cell_type": "markdown",
   "id": "69d6b3c9-fe19-4e00-86c3-b53763f153e4",
   "metadata": {},
   "source": [
    "Con la regresión multiple podemos observar que los p-values encontrados de tv y radio, nos dieron 0 en ambas regresiones. Mientras que el p-value encontrado gracias al análisis de regresión multuple, que fue de 0.86, aceptariamos la hipotesis nula, ya que, 0.86 es mayor que 0.05. Esto nos quiere decir, que no hay una relación significante entre las ventas y los periódicos (no nos da información nueva,por lo que, es irrelevante). Mientras que, en la regresión simple habíamos rechazado la hipotesis nula, ya que, el p-value era menor a 0.05, por separado si importaba pero en conjunto se volvió irrelevante. Esto se debe a que en la regresión simple porque analizamos la variable periódico por si sola, pero en la regresión múltiple como analizamos todas las variables juntas, vemos que la información del périodico, ya nos la había dado las otras variables."
   ]
  },
  {
   "cell_type": "code",
   "execution_count": 287,
   "id": "12082450-59fb-4d66-88ca-3628fe3d7c9c",
   "metadata": {},
   "outputs": [
    {
     "data": {
      "text/html": [
       "<table class=\"simpletable\">\n",
       "<caption>OLS Regression Results</caption>\n",
       "<tr>\n",
       "  <th>Dep. Variable:</th>          <td>sales</td>      <th>  R-squared:         </th> <td>   0.968</td> \n",
       "</tr>\n",
       "<tr>\n",
       "  <th>Model:</th>                   <td>OLS</td>       <th>  Adj. R-squared:    </th> <td>   0.967</td> \n",
       "</tr>\n",
       "<tr>\n",
       "  <th>Method:</th>             <td>Least Squares</td>  <th>  F-statistic:       </th> <td>   1963.</td> \n",
       "</tr>\n",
       "<tr>\n",
       "  <th>Date:</th>             <td>Thu, 28 Aug 2025</td> <th>  Prob (F-statistic):</th> <td>6.68e-146</td>\n",
       "</tr>\n",
       "<tr>\n",
       "  <th>Time:</th>                 <td>17:42:20</td>     <th>  Log-Likelihood:    </th> <td> -270.14</td> \n",
       "</tr>\n",
       "<tr>\n",
       "  <th>No. Observations:</th>      <td>   200</td>      <th>  AIC:               </th> <td>   548.3</td> \n",
       "</tr>\n",
       "<tr>\n",
       "  <th>Df Residuals:</th>          <td>   196</td>      <th>  BIC:               </th> <td>   561.5</td> \n",
       "</tr>\n",
       "<tr>\n",
       "  <th>Df Model:</th>              <td>     3</td>      <th>                     </th>     <td> </td>    \n",
       "</tr>\n",
       "<tr>\n",
       "  <th>Covariance Type:</th>      <td>nonrobust</td>    <th>                     </th>     <td> </td>    \n",
       "</tr>\n",
       "</table>\n",
       "<table class=\"simpletable\">\n",
       "<tr>\n",
       "    <td></td>       <th>coef</th>     <th>std err</th>      <th>t</th>      <th>P>|t|</th>  <th>[0.025</th>    <th>0.975]</th>  \n",
       "</tr>\n",
       "<tr>\n",
       "  <th>const</th> <td>    6.7502</td> <td>    0.248</td> <td>   27.233</td> <td> 0.000</td> <td>    6.261</td> <td>    7.239</td>\n",
       "</tr>\n",
       "<tr>\n",
       "  <th>x1</th>    <td>    0.0191</td> <td>    0.002</td> <td>   12.699</td> <td> 0.000</td> <td>    0.016</td> <td>    0.022</td>\n",
       "</tr>\n",
       "<tr>\n",
       "  <th>x2</th>    <td>    0.0289</td> <td>    0.009</td> <td>    3.241</td> <td> 0.001</td> <td>    0.011</td> <td>    0.046</td>\n",
       "</tr>\n",
       "<tr>\n",
       "  <th>x3</th>    <td>    0.0011</td> <td> 5.24e-05</td> <td>   20.727</td> <td> 0.000</td> <td>    0.001</td> <td>    0.001</td>\n",
       "</tr>\n",
       "</table>\n",
       "<table class=\"simpletable\">\n",
       "<tr>\n",
       "  <th>Omnibus:</th>       <td>128.132</td> <th>  Durbin-Watson:     </th> <td>   2.224</td> \n",
       "</tr>\n",
       "<tr>\n",
       "  <th>Prob(Omnibus):</th> <td> 0.000</td>  <th>  Jarque-Bera (JB):  </th> <td>1183.719</td> \n",
       "</tr>\n",
       "<tr>\n",
       "  <th>Skew:</th>          <td>-2.323</td>  <th>  Prob(JB):          </th> <td>9.09e-258</td>\n",
       "</tr>\n",
       "<tr>\n",
       "  <th>Kurtosis:</th>      <td>13.975</td>  <th>  Cond. No.          </th> <td>1.80e+04</td> \n",
       "</tr>\n",
       "</table><br/><br/>Notes:<br/>[1] Standard Errors assume that the covariance matrix of the errors is correctly specified.<br/>[2] The condition number is large, 1.8e+04. This might indicate that there are<br/>strong multicollinearity or other numerical problems."
      ],
      "text/latex": [
       "\\begin{center}\n",
       "\\begin{tabular}{lclc}\n",
       "\\toprule\n",
       "\\textbf{Dep. Variable:}    &      sales       & \\textbf{  R-squared:         } &     0.968   \\\\\n",
       "\\textbf{Model:}            &       OLS        & \\textbf{  Adj. R-squared:    } &     0.967   \\\\\n",
       "\\textbf{Method:}           &  Least Squares   & \\textbf{  F-statistic:       } &     1963.   \\\\\n",
       "\\textbf{Date:}             & Thu, 28 Aug 2025 & \\textbf{  Prob (F-statistic):} & 6.68e-146   \\\\\n",
       "\\textbf{Time:}             &     17:42:20     & \\textbf{  Log-Likelihood:    } &   -270.14   \\\\\n",
       "\\textbf{No. Observations:} &         200      & \\textbf{  AIC:               } &     548.3   \\\\\n",
       "\\textbf{Df Residuals:}     &         196      & \\textbf{  BIC:               } &     561.5   \\\\\n",
       "\\textbf{Df Model:}         &           3      & \\textbf{                     } &             \\\\\n",
       "\\textbf{Covariance Type:}  &    nonrobust     & \\textbf{                     } &             \\\\\n",
       "\\bottomrule\n",
       "\\end{tabular}\n",
       "\\begin{tabular}{lcccccc}\n",
       "               & \\textbf{coef} & \\textbf{std err} & \\textbf{t} & \\textbf{P$> |$t$|$} & \\textbf{[0.025} & \\textbf{0.975]}  \\\\\n",
       "\\midrule\n",
       "\\textbf{const} &       6.7502  &        0.248     &    27.233  &         0.000        &        6.261    &        7.239     \\\\\n",
       "\\textbf{x1}    &       0.0191  &        0.002     &    12.699  &         0.000        &        0.016    &        0.022     \\\\\n",
       "\\textbf{x2}    &       0.0289  &        0.009     &     3.241  &         0.001        &        0.011    &        0.046     \\\\\n",
       "\\textbf{x3}    &       0.0011  &     5.24e-05     &    20.727  &         0.000        &        0.001    &        0.001     \\\\\n",
       "\\bottomrule\n",
       "\\end{tabular}\n",
       "\\begin{tabular}{lclc}\n",
       "\\textbf{Omnibus:}       & 128.132 & \\textbf{  Durbin-Watson:     } &     2.224  \\\\\n",
       "\\textbf{Prob(Omnibus):} &   0.000 & \\textbf{  Jarque-Bera (JB):  } &  1183.719  \\\\\n",
       "\\textbf{Skew:}          &  -2.323 & \\textbf{  Prob(JB):          } & 9.09e-258  \\\\\n",
       "\\textbf{Kurtosis:}      &  13.975 & \\textbf{  Cond. No.          } &  1.80e+04  \\\\\n",
       "\\bottomrule\n",
       "\\end{tabular}\n",
       "%\\caption{OLS Regression Results}\n",
       "\\end{center}\n",
       "\n",
       "Notes: \\newline\n",
       " [1] Standard Errors assume that the covariance matrix of the errors is correctly specified. \\newline\n",
       " [2] The condition number is large, 1.8e+04. This might indicate that there are \\newline\n",
       " strong multicollinearity or other numerical problems."
      ],
      "text/plain": [
       "<class 'statsmodels.iolib.summary.Summary'>\n",
       "\"\"\"\n",
       "                            OLS Regression Results                            \n",
       "==============================================================================\n",
       "Dep. Variable:                  sales   R-squared:                       0.968\n",
       "Model:                            OLS   Adj. R-squared:                  0.967\n",
       "Method:                 Least Squares   F-statistic:                     1963.\n",
       "Date:                Thu, 28 Aug 2025   Prob (F-statistic):          6.68e-146\n",
       "Time:                        17:42:20   Log-Likelihood:                -270.14\n",
       "No. Observations:                 200   AIC:                             548.3\n",
       "Df Residuals:                     196   BIC:                             561.5\n",
       "Df Model:                           3                                         \n",
       "Covariance Type:            nonrobust                                         \n",
       "==============================================================================\n",
       "                 coef    std err          t      P>|t|      [0.025      0.975]\n",
       "------------------------------------------------------------------------------\n",
       "const          6.7502      0.248     27.233      0.000       6.261       7.239\n",
       "x1             0.0191      0.002     12.699      0.000       0.016       0.022\n",
       "x2             0.0289      0.009      3.241      0.001       0.011       0.046\n",
       "x3             0.0011   5.24e-05     20.727      0.000       0.001       0.001\n",
       "==============================================================================\n",
       "Omnibus:                      128.132   Durbin-Watson:                   2.224\n",
       "Prob(Omnibus):                  0.000   Jarque-Bera (JB):             1183.719\n",
       "Skew:                          -2.323   Prob(JB):                    9.09e-258\n",
       "Kurtosis:                      13.975   Cond. No.                     1.80e+04\n",
       "==============================================================================\n",
       "\n",
       "Notes:\n",
       "[1] Standard Errors assume that the covariance matrix of the errors is correctly specified.\n",
       "[2] The condition number is large, 1.8e+04. This might indicate that there are\n",
       "strong multicollinearity or other numerical problems.\n",
       "\"\"\""
      ]
     },
     "execution_count": 287,
     "metadata": {},
     "output_type": "execute_result"
    }
   ],
   "source": [
    "#ejemplo1 de clase\n",
    "import statsmodels.api as sm\n",
    "\n",
    "unos=np.ones([n1,1])\n",
    "xnew=x1*x2.reshape([-1,1])\n",
    "X=np.hstack([unos,x1,x2,xnew])\n",
    "ols=sm.OLS(y1,X)\n",
    "resultados=ols.fit()\n",
    "resultados.summary()"
   ]
  },
  {
   "cell_type": "code",
   "execution_count": 293,
   "id": "e9fab7fc-df94-4269-bf7b-25bbc417877b",
   "metadata": {},
   "outputs": [
    {
     "data": {
      "text/html": [
       "<table class=\"simpletable\">\n",
       "<caption>OLS Regression Results</caption>\n",
       "<tr>\n",
       "  <th>Dep. Variable:</th>          <td>sales</td>      <th>  R-squared:         </th> <td>   0.969</td> \n",
       "</tr>\n",
       "<tr>\n",
       "  <th>Model:</th>                   <td>OLS</td>       <th>  Adj. R-squared:    </th> <td>   0.968</td> \n",
       "</tr>\n",
       "<tr>\n",
       "  <th>Method:</th>             <td>Least Squares</td>  <th>  F-statistic:       </th> <td>   993.3</td> \n",
       "</tr>\n",
       "<tr>\n",
       "  <th>Date:</th>             <td>Thu, 28 Aug 2025</td> <th>  Prob (F-statistic):</th> <td>3.68e-142</td>\n",
       "</tr>\n",
       "<tr>\n",
       "  <th>Time:</th>                 <td>17:45:30</td>     <th>  Log-Likelihood:    </th> <td> -267.49</td> \n",
       "</tr>\n",
       "<tr>\n",
       "  <th>No. Observations:</th>      <td>   200</td>      <th>  AIC:               </th> <td>   549.0</td> \n",
       "</tr>\n",
       "<tr>\n",
       "  <th>Df Residuals:</th>          <td>   193</td>      <th>  BIC:               </th> <td>   572.1</td> \n",
       "</tr>\n",
       "<tr>\n",
       "  <th>Df Model:</th>              <td>     6</td>      <th>                     </th>     <td> </td>    \n",
       "</tr>\n",
       "<tr>\n",
       "  <th>Covariance Type:</th>      <td>nonrobust</td>    <th>                     </th>     <td> </td>    \n",
       "</tr>\n",
       "</table>\n",
       "<table class=\"simpletable\">\n",
       "<tr>\n",
       "    <td></td>       <th>coef</th>     <th>std err</th>      <th>t</th>      <th>P>|t|</th>  <th>[0.025</th>    <th>0.975]</th>  \n",
       "</tr>\n",
       "<tr>\n",
       "  <th>const</th> <td>    6.4602</td> <td>    0.318</td> <td>   20.342</td> <td> 0.000</td> <td>    5.834</td> <td>    7.087</td>\n",
       "</tr>\n",
       "<tr>\n",
       "  <th>x1</th>    <td>    0.0203</td> <td>    0.002</td> <td>   12.633</td> <td> 0.000</td> <td>    0.017</td> <td>    0.024</td>\n",
       "</tr>\n",
       "<tr>\n",
       "  <th>x2</th>    <td>    0.0229</td> <td>    0.011</td> <td>    2.009</td> <td> 0.046</td> <td>    0.000</td> <td>    0.045</td>\n",
       "</tr>\n",
       "<tr>\n",
       "  <th>x3</th>    <td>    0.0011</td> <td> 5.72e-05</td> <td>   19.930</td> <td> 0.000</td> <td>    0.001</td> <td>    0.001</td>\n",
       "</tr>\n",
       "<tr>\n",
       "  <th>x4</th>    <td>    0.0170</td> <td>    0.010</td> <td>    1.691</td> <td> 0.092</td> <td>   -0.003</td> <td>    0.037</td>\n",
       "</tr>\n",
       "<tr>\n",
       "  <th>x5</th>    <td>-7.971e-05</td> <td> 3.58e-05</td> <td>   -2.227</td> <td> 0.027</td> <td>   -0.000</td> <td>-9.12e-06</td>\n",
       "</tr>\n",
       "<tr>\n",
       "  <th>x6</th>    <td>   -0.0001</td> <td>    0.000</td> <td>   -0.464</td> <td> 0.643</td> <td>   -0.001</td> <td>    0.000</td>\n",
       "</tr>\n",
       "</table>\n",
       "<table class=\"simpletable\">\n",
       "<tr>\n",
       "  <th>Omnibus:</th>       <td>111.385</td> <th>  Durbin-Watson:     </th> <td>   2.222</td> \n",
       "</tr>\n",
       "<tr>\n",
       "  <th>Prob(Omnibus):</th> <td> 0.000</td>  <th>  Jarque-Bera (JB):  </th> <td> 767.483</td> \n",
       "</tr>\n",
       "<tr>\n",
       "  <th>Skew:</th>          <td>-2.046</td>  <th>  Prob(JB):          </th> <td>2.20e-167</td>\n",
       "</tr>\n",
       "<tr>\n",
       "  <th>Kurtosis:</th>      <td>11.681</td>  <th>  Cond. No.          </th> <td>3.80e+04</td> \n",
       "</tr>\n",
       "</table><br/><br/>Notes:<br/>[1] Standard Errors assume that the covariance matrix of the errors is correctly specified.<br/>[2] The condition number is large, 3.8e+04. This might indicate that there are<br/>strong multicollinearity or other numerical problems."
      ],
      "text/latex": [
       "\\begin{center}\n",
       "\\begin{tabular}{lclc}\n",
       "\\toprule\n",
       "\\textbf{Dep. Variable:}    &      sales       & \\textbf{  R-squared:         } &     0.969   \\\\\n",
       "\\textbf{Model:}            &       OLS        & \\textbf{  Adj. R-squared:    } &     0.968   \\\\\n",
       "\\textbf{Method:}           &  Least Squares   & \\textbf{  F-statistic:       } &     993.3   \\\\\n",
       "\\textbf{Date:}             & Thu, 28 Aug 2025 & \\textbf{  Prob (F-statistic):} & 3.68e-142   \\\\\n",
       "\\textbf{Time:}             &     17:45:30     & \\textbf{  Log-Likelihood:    } &   -267.49   \\\\\n",
       "\\textbf{No. Observations:} &         200      & \\textbf{  AIC:               } &     549.0   \\\\\n",
       "\\textbf{Df Residuals:}     &         193      & \\textbf{  BIC:               } &     572.1   \\\\\n",
       "\\textbf{Df Model:}         &           6      & \\textbf{                     } &             \\\\\n",
       "\\textbf{Covariance Type:}  &    nonrobust     & \\textbf{                     } &             \\\\\n",
       "\\bottomrule\n",
       "\\end{tabular}\n",
       "\\begin{tabular}{lcccccc}\n",
       "               & \\textbf{coef} & \\textbf{std err} & \\textbf{t} & \\textbf{P$> |$t$|$} & \\textbf{[0.025} & \\textbf{0.975]}  \\\\\n",
       "\\midrule\n",
       "\\textbf{const} &       6.4602  &        0.318     &    20.342  &         0.000        &        5.834    &        7.087     \\\\\n",
       "\\textbf{x1}    &       0.0203  &        0.002     &    12.633  &         0.000        &        0.017    &        0.024     \\\\\n",
       "\\textbf{x2}    &       0.0229  &        0.011     &     2.009  &         0.046        &        0.000    &        0.045     \\\\\n",
       "\\textbf{x3}    &       0.0011  &     5.72e-05     &    19.930  &         0.000        &        0.001    &        0.001     \\\\\n",
       "\\textbf{x4}    &       0.0170  &        0.010     &     1.691  &         0.092        &       -0.003    &        0.037     \\\\\n",
       "\\textbf{x5}    &   -7.971e-05  &     3.58e-05     &    -2.227  &         0.027        &       -0.000    &    -9.12e-06     \\\\\n",
       "\\textbf{x6}    &      -0.0001  &        0.000     &    -0.464  &         0.643        &       -0.001    &        0.000     \\\\\n",
       "\\bottomrule\n",
       "\\end{tabular}\n",
       "\\begin{tabular}{lclc}\n",
       "\\textbf{Omnibus:}       & 111.385 & \\textbf{  Durbin-Watson:     } &     2.222  \\\\\n",
       "\\textbf{Prob(Omnibus):} &   0.000 & \\textbf{  Jarque-Bera (JB):  } &   767.483  \\\\\n",
       "\\textbf{Skew:}          &  -2.046 & \\textbf{  Prob(JB):          } & 2.20e-167  \\\\\n",
       "\\textbf{Kurtosis:}      &  11.681 & \\textbf{  Cond. No.          } &  3.80e+04  \\\\\n",
       "\\bottomrule\n",
       "\\end{tabular}\n",
       "%\\caption{OLS Regression Results}\n",
       "\\end{center}\n",
       "\n",
       "Notes: \\newline\n",
       " [1] Standard Errors assume that the covariance matrix of the errors is correctly specified. \\newline\n",
       " [2] The condition number is large, 3.8e+04. This might indicate that there are \\newline\n",
       " strong multicollinearity or other numerical problems."
      ],
      "text/plain": [
       "<class 'statsmodels.iolib.summary.Summary'>\n",
       "\"\"\"\n",
       "                            OLS Regression Results                            \n",
       "==============================================================================\n",
       "Dep. Variable:                  sales   R-squared:                       0.969\n",
       "Model:                            OLS   Adj. R-squared:                  0.968\n",
       "Method:                 Least Squares   F-statistic:                     993.3\n",
       "Date:                Thu, 28 Aug 2025   Prob (F-statistic):          3.68e-142\n",
       "Time:                        17:45:30   Log-Likelihood:                -267.49\n",
       "No. Observations:                 200   AIC:                             549.0\n",
       "Df Residuals:                     193   BIC:                             572.1\n",
       "Df Model:                           6                                         \n",
       "Covariance Type:            nonrobust                                         \n",
       "==============================================================================\n",
       "                 coef    std err          t      P>|t|      [0.025      0.975]\n",
       "------------------------------------------------------------------------------\n",
       "const          6.4602      0.318     20.342      0.000       5.834       7.087\n",
       "x1             0.0203      0.002     12.633      0.000       0.017       0.024\n",
       "x2             0.0229      0.011      2.009      0.046       0.000       0.045\n",
       "x3             0.0011   5.72e-05     19.930      0.000       0.001       0.001\n",
       "x4             0.0170      0.010      1.691      0.092      -0.003       0.037\n",
       "x5         -7.971e-05   3.58e-05     -2.227      0.027      -0.000   -9.12e-06\n",
       "x6            -0.0001      0.000     -0.464      0.643      -0.001       0.000\n",
       "==============================================================================\n",
       "Omnibus:                      111.385   Durbin-Watson:                   2.222\n",
       "Prob(Omnibus):                  0.000   Jarque-Bera (JB):              767.483\n",
       "Skew:                          -2.046   Prob(JB):                    2.20e-167\n",
       "Kurtosis:                      11.681   Cond. No.                     3.80e+04\n",
       "==============================================================================\n",
       "\n",
       "Notes:\n",
       "[1] Standard Errors assume that the covariance matrix of the errors is correctly specified.\n",
       "[2] The condition number is large, 3.8e+04. This might indicate that there are\n",
       "strong multicollinearity or other numerical problems.\n",
       "\"\"\""
      ]
     },
     "execution_count": 293,
     "metadata": {},
     "output_type": "execute_result"
    }
   ],
   "source": [
    "#ejemplo2 de clase\n",
    "import statsmodels.api as sm\n",
    "\n",
    "unos=np.ones([n1,1])\n",
    "xnew=x1*x2.reshape([-1,1])\n",
    "xnew2=x1*x3.reshape([-1,1])\n",
    "xnew3=x2*x3.reshape([-1,1])\n",
    "X=np.hstack([unos,x1,x2,xnew,x3,xnew2,xnew3])\n",
    "ols=sm.OLS(y1,X)\n",
    "resultados=ols.fit()\n",
    "resultados.summary()"
   ]
  },
  {
   "cell_type": "markdown",
   "id": "3898858d-5dda-42ae-b458-b5e7fcd2df76",
   "metadata": {},
   "source": [
    "## Referencia\n",
    "\n",
    "James, G., Witten, D., Hastie, T., Tibshirani, R.,, Taylor, J. (2023). An Introduction to Statistical Learning with Applications in Python. Cham: Springer. ISBN: 978-3-031-38746-3"
   ]
  },
  {
   "cell_type": "markdown",
   "id": "8a72b870-2174-4ea9-adac-260d6aa97067",
   "metadata": {},
   "source": [
    "## Addendum"
   ]
  },
  {
   "cell_type": "markdown",
   "id": "8dacc515-40ee-4ac8-a6f6-9e1a22b97313",
   "metadata": {},
   "source": [
    "Para calcular los *p-values* de los parámetros sin `statsmodels`:\n",
    "1. Calcular RSS\n",
    "2. Calcular RSE\n",
    "3. `var_beta = np.linalg.inv(X.T @ X) * rse**2` (X con columna de intercepto)\n",
    "4. `std_beta = np.sqrt(var_beta.diagonal())` El orden de los valores corresponde al orden de los factores en las columnas de la matriz $X$.\n",
    "5. Calcular *estadístico t*\n",
    "6. Calcular *p-value*"
   ]
  }
 ],
 "metadata": {
  "kernelspec": {
   "display_name": "Python [conda env:base] *",
   "language": "python",
   "name": "conda-base-py"
  },
  "language_info": {
   "codemirror_mode": {
    "name": "ipython",
    "version": 3
   },
   "file_extension": ".py",
   "mimetype": "text/x-python",
   "name": "python",
   "nbconvert_exporter": "python",
   "pygments_lexer": "ipython3",
   "version": "3.12.7"
  }
 },
 "nbformat": 4,
 "nbformat_minor": 5
}
